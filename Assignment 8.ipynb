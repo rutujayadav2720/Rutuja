{
 "cells": [
  {
   "cell_type": "markdown",
   "id": "173b6f26",
   "metadata": {},
   "source": [
    "**1. In Python, what is the difference between a built-in function and a user-defined function? Provide an example of each.**"
   ]
  },
  {
   "cell_type": "markdown",
   "id": "e2802fef",
   "metadata": {},
   "source": [
    "1.built-in function:\n",
    "\n",
    "The Python built-in functions are defined as the functions whose functionality is pre-defined in Python. The python interpreter has several functions that are always present for use. These functions are known as Built-in Function\n",
    "\n",
    "A few of the frequently used built-in functions in Python programs are abs(x) for fetching the absolute value of x, bin() for getting the binary value, bool() for retrieving the boolean value of an object, list() for lists, len() to get the length of the value, open() to open the files, pow() for returning the power of a number, sum() for fetching the sum of the elements, reversed() for reversing the order, etc.\n"
   ]
  },
  {
   "cell_type": "code",
   "execution_count": 1,
   "id": "43c238d2",
   "metadata": {},
   "outputs": [
    {
     "name": "stdout",
     "output_type": "stream",
     "text": [
      "6\n"
     ]
    }
   ],
   "source": [
    "#Python len() Function\n",
    "#The python len() function is used to return the length (the number of items) of an object.\n",
    "\n",
    "#Python len() Function Example\n",
    "\n",
    "strA = 'Python'  \n",
    "print(len(strA))  "
   ]
  },
  {
   "cell_type": "code",
   "execution_count": 2,
   "id": "d9ee4acc",
   "metadata": {},
   "outputs": [
    {
     "name": "stdout",
     "output_type": "stream",
     "text": [
      "[]\n",
      "['a', 'b', 'c', 'd', 'e']\n",
      "[1, 2, 3, 4, 5]\n",
      "[1, 2, 3, 4, 5]\n"
     ]
    }
   ],
   "source": [
    "#Python list()\n",
    "#The python list() creates a list in python.\n",
    "\n",
    "#Python list() Example\n",
    "\n",
    "# empty list  \n",
    "print(list())  \n",
    "  \n",
    "# string  \n",
    "String = 'abcde'       \n",
    "print(list(String))  \n",
    "  \n",
    "# tuple  \n",
    "Tuple = (1,2,3,4,5)  \n",
    "print(list(Tuple))  \n",
    "# list  \n",
    "List = [1,2,3,4,5]  \n",
    "print(list(List))  "
   ]
  },
  {
   "cell_type": "code",
   "execution_count": 3,
   "id": "5411b7ce",
   "metadata": {},
   "outputs": [
    {
     "name": "stdout",
     "output_type": "stream",
     "text": [
      "['In', 'List', 'Out', 'String', 'Tuple', '_', '__', '___', '__builtin__', '__builtins__', '__doc__', '__loader__', '__name__', '__package__', '__spec__', '_dh', '_i', '_i1', '_i2', '_i3', '_ih', '_ii', '_iii', '_oh', 'exit', 'get_ipython', 'open', 'quit', 'strA']\n"
     ]
    }
   ],
   "source": [
    "#Python dir() Function\n",
    "#Python dir() function returns the list of names in the current local scope. If the object on which method is called has a method named __dir__(), this method will be called and must return the list of attributes. It takes a single object type argument.\n",
    "\n",
    "#Python dir() Function Example:\n",
    "\n",
    "# Calling function  \n",
    "att = dir()  \n",
    "# Displaying result  \n",
    "print(att)  "
   ]
  },
  {
   "cell_type": "code",
   "execution_count": 4,
   "id": "570bf156",
   "metadata": {},
   "outputs": [
    {
     "name": "stdout",
     "output_type": "stream",
     "text": [
      "0b1010\n"
     ]
    }
   ],
   "source": [
    "#Python bin() Function\n",
    "#The python bin() function is used to return the binary representation of a specified integer. A result always starts with the prefix 0b.\n",
    "\n",
    "#Python bin() Function Example:\n",
    "\n",
    "x =  10  \n",
    "y =  bin(x)  \n",
    "print (y)  "
   ]
  },
  {
   "cell_type": "markdown",
   "id": "89b2a88f",
   "metadata": {},
   "source": [
    "2. User-defined Functions : \n",
    "\n",
    "-Functions that readily come with Python are called built-in functions. If we use functions written by others in the form of library, it can be termed as library functions.\n",
    "\n",
    "-All the other functions that we write on our own fall under user-defined functions."
   ]
  },
  {
   "cell_type": "code",
   "execution_count": 5,
   "id": "b52a1d7c",
   "metadata": {},
   "outputs": [
    {
     "name": "stdout",
     "output_type": "stream",
     "text": [
      "The sum is 16\n"
     ]
    }
   ],
   "source": [
    "# the use of user-defined functions\n",
    "\n",
    "def add_numbers(x,y):\n",
    "   sum = x + y\n",
    "   return sum\n",
    "\n",
    "num1 = 10\n",
    "num2 = 6\n",
    "\n",
    "print(\"The sum is\", add_numbers(num1, num2))"
   ]
  },
  {
   "cell_type": "markdown",
   "id": "6d846e47",
   "metadata": {},
   "source": [
    "**2.How can you pass arguments to a function in Python? Explain the difference between positional\n",
    "arguments and keyword arguments.**"
   ]
  },
  {
   "cell_type": "markdown",
   "id": "ad8fdc9c",
   "metadata": {},
   "source": [
    "Python Function Arguments\n",
    "\n",
    "\n",
    "-Information can be passed into functions as arguments.\n",
    "\n",
    "-Arguments are specified after the function name, inside the parentheses. You can add as many arguments as you want, just separate them with a comma.\n",
    "\n",
    "Positional and Keyword Arguments:\n",
    "\n",
    "1.Keyword Arguments\n",
    "\n",
    "-Keyword arguments mean whenever we pass the arguments(or value) by their parameter names at the time of calling the function in Python in which if you change the position of arguments then there will be no change in the output.\n",
    "\n",
    "-Keyword arguments are included with a keyword and equals sign."
   ]
  },
  {
   "cell_type": "code",
   "execution_count": 6,
   "id": "d4b96cbc",
   "metadata": {},
   "outputs": [
    {
     "name": "stdout",
     "output_type": "stream",
     "text": [
      "Hi, I am Rutu\n",
      "My age is  23\n",
      "Hi, I am Rutu\n",
      "My age is  23\n"
     ]
    }
   ],
   "source": [
    "def nameAge(name, age):\n",
    "    print(\"Hi, I am\", name)\n",
    "    print(\"My age is \", age)\n",
    "\n",
    "nameAge(name=\"Rutu\", age=23)\n",
    "\n",
    "nameAge(age=23, name=\"Rutu\")\n"
   ]
  },
  {
   "cell_type": "markdown",
   "id": "7fef99f6",
   "metadata": {},
   "source": [
    "2.Position arguments\n",
    "\n",
    "-Position arguments mean whenever we pass the arguments in the order we have defined function parameters in which if you change the argument position then you may get the unexpected output. We should use positional Arguments whenever we know the order of argument to be passed. So now, we will call the function by using the position-only arguments in two ways and In both cases, we will be getting different outputs from which one will be correct and another one will be incorrect.\n",
    "\n",
    "-Positional arguments must be included in the correct order."
   ]
  },
  {
   "cell_type": "code",
   "execution_count": 7,
   "id": "f8532a4b",
   "metadata": {},
   "outputs": [
    {
     "name": "stdout",
     "output_type": "stream",
     "text": [
      "Case-1:\n",
      "Hi, I am Rutu\n",
      "My age is  23\n",
      "\n",
      "Case-2:\n",
      "Hi, I am 23\n",
      "My age is  Rutu\n"
     ]
    }
   ],
   "source": [
    "def nameAge(name, age):\n",
    "    print(\"Hi, I am\", name)\n",
    "    print(\"My age is \", age)\n",
    "\n",
    "# You will get correct output because argument is given in order\n",
    "print(\"Case-1:\")\n",
    "nameAge(\"Rutu\", 23)\n",
    "# You will get incorrect output because argument is not in order\n",
    "print(\"\\nCase-2:\")\n",
    "nameAge(23, \"Rutu\")\n"
   ]
  },
  {
   "cell_type": "markdown",
   "id": "d769714b",
   "metadata": {},
   "source": [
    "**3.What is the purpose of the return statement in a function? Can a function have multiple return\n",
    "statements? Explain with an example.**"
   ]
  },
  {
   "cell_type": "markdown",
   "id": "691cc4e7",
   "metadata": {},
   "source": [
    "-The return keyword is one of the built-in keywords in Python which is also used for increasing readability and writing clear code in Python.\n",
    "\n",
    "-you can write a function have multiple return statements"
   ]
  },
  {
   "cell_type": "code",
   "execution_count": 8,
   "id": "e5a63c55",
   "metadata": {},
   "outputs": [
    {
     "name": "stdout",
     "output_type": "stream",
     "text": [
      "odd\n"
     ]
    }
   ],
   "source": [
    "def type_of_int(i):\n",
    "    if i % 2 == 0:\n",
    "        return 'even'\n",
    "    else:\n",
    "        return 'odd'\n",
    " \n",
    "result = type_of_int(5)\n",
    " \n",
    "print(result)"
   ]
  },
  {
   "cell_type": "markdown",
   "id": "6ee0f63b",
   "metadata": {},
   "source": [
    "**4. What are lambda functions in Python? How are they different from regular functions? Provide an example where a lambda function can be useful.**"
   ]
  },
  {
   "cell_type": "markdown",
   "id": "9cfd3258",
   "metadata": {},
   "source": [
    "-A lambda function is an anonymous function (i.e., defined without a name) that can take any number of arguments but, unlike normal functions, evaluates and returns only one expression.\n",
    "\n",
    "-a normal function, we don't surround the parameters of a lambda function with parentheses."
   ]
  },
  {
   "cell_type": "code",
   "execution_count": 9,
   "id": "fe7530f4",
   "metadata": {},
   "outputs": [
    {
     "data": {
      "text/plain": [
       "<function __main__.<lambda>(x)>"
      ]
     },
     "execution_count": 9,
     "metadata": {},
     "output_type": "execute_result"
    }
   ],
   "source": [
    "lambda x: x + 1"
   ]
  },
  {
   "cell_type": "code",
   "execution_count": 10,
   "id": "9e57179a",
   "metadata": {},
   "outputs": [
    {
     "name": "stdout",
     "output_type": "stream",
     "text": [
      "<function <lambda> at 0x000001C67E650820>\n"
     ]
    }
   ],
   "source": [
    "a = 2\n",
    "print(lambda x: a + 1)"
   ]
  },
  {
   "cell_type": "code",
   "execution_count": 11,
   "id": "aeb910e2",
   "metadata": {},
   "outputs": [
    {
     "data": {
      "text/plain": [
       "3"
      ]
     },
     "execution_count": 11,
     "metadata": {},
     "output_type": "execute_result"
    }
   ],
   "source": [
    "(lambda x: x + 1)(2)"
   ]
  },
  {
   "cell_type": "markdown",
   "id": "20dcf1b2",
   "metadata": {},
   "source": [
    "**5. How does the concept of \"scope\" apply to functions in Python? Explain the difference between local scope and global scope.**"
   ]
  },
  {
   "cell_type": "markdown",
   "id": "457a6b8a",
   "metadata": {},
   "source": [
    "-The concept of scope rules how variables and names are looked up in your code. It determines the visibility of a variable within the code. The scope of a name or variable depends on the place in your code where you create that variable.\n",
    "\n",
    "-There are two types of variables: global variables and local variables. The scope of global variables is the entire program whereas the scope of local variable is limited to the function where it is defined."
   ]
  },
  {
   "cell_type": "code",
   "execution_count": 12,
   "id": "c8145247",
   "metadata": {},
   "outputs": [
    {
     "name": "stdout",
     "output_type": "stream",
     "text": [
      "15\n"
     ]
    }
   ],
   "source": [
    "#Local variables\n",
    "#Local variables can only be reached within their scope(like func() above).\n",
    "#Like in below program- there are two local variables – x and y.\n",
    "def sum(x,y):\n",
    "    sum = x + y\n",
    "    return sum\n",
    "print(sum(5, 10))"
   ]
  },
  {
   "cell_type": "code",
   "execution_count": 13,
   "id": "15ac8381",
   "metadata": {},
   "outputs": [
    {
     "name": "stdout",
     "output_type": "stream",
     "text": [
      "25\n",
      "20\n"
     ]
    }
   ],
   "source": [
    "#Global variables\n",
    "#A global variable can be used anywhere in the program as its scope is the entire program. \n",
    "#Let’s understand global variable with a very simple example −\n",
    "z = 25\n",
    "def func():\n",
    "    global z\n",
    "    print(z)\n",
    "    z=20\n",
    "func()\n",
    "print(z)"
   ]
  },
  {
   "cell_type": "markdown",
   "id": "932d46f9",
   "metadata": {},
   "source": [
    "**6. How can you use the \"return\" statement in a Python function to return multiple values?**"
   ]
  },
  {
   "cell_type": "markdown",
   "id": "bdd542ec",
   "metadata": {},
   "source": [
    "Python return multiple values:\n",
    "\n",
    "-Python return multiple values\n",
    "\n",
    "-Comma-separated values (Tuples)\n",
    "\n",
    "-Python List\n",
    "\n",
    "-Python Dictionary\n",
    "\n",
    "-Using Python Data Class"
   ]
  },
  {
   "cell_type": "code",
   "execution_count": 14,
   "id": "3366457d",
   "metadata": {},
   "outputs": [
    {
     "name": "stdout",
     "output_type": "stream",
     "text": [
      "Sum 15\n"
     ]
    }
   ],
   "source": [
    "#Using Comma-separated values (Tuples):\n",
    "#Returning Multiple Values using Tuples\n",
    "def multiple():\n",
    "    operation = \"Sum\" \n",
    "    total = 5+10\n",
    "    return operation, total;\n",
    "\n",
    "operation, total = multiple()\n",
    "\n",
    "print(operation, total)"
   ]
  },
  {
   "cell_type": "code",
   "execution_count": 15,
   "id": "3bca19c0",
   "metadata": {},
   "outputs": [
    {
     "name": "stdout",
     "output_type": "stream",
     "text": [
      "['Sum', 15]\n"
     ]
    }
   ],
   "source": [
    "#Returning Multiple Values using List\n",
    "def multiple():\n",
    "    operation = \"Sum\" \n",
    "    total = 5+10\n",
    "    return [operation, total];\n",
    "\n",
    "values = multiple()\n",
    "\n",
    "print(values)"
   ]
  },
  {
   "cell_type": "code",
   "execution_count": 16,
   "id": "773dc101",
   "metadata": {},
   "outputs": [
    {
     "name": "stdout",
     "output_type": "stream",
     "text": [
      "{'operation': 'Sum', 'total': 15}\n"
     ]
    }
   ],
   "source": [
    "#Returning Multiple Values using Dictionary\n",
    "def multiple():\n",
    "    values = dict();\n",
    "    values['operation'] = \"Sum\" \n",
    "    values['total'] = 5+10\n",
    "    return values;\n",
    "\n",
    "values = multiple()\n",
    "\n",
    "print(values)"
   ]
  },
  {
   "cell_type": "code",
   "execution_count": 17,
   "id": "595ea1df",
   "metadata": {},
   "outputs": [
    {
     "name": "stdout",
     "output_type": "stream",
     "text": [
      "15\n",
      "multiplevalues(operation='Addition', num1=5, num2=10)\n"
     ]
    }
   ],
   "source": [
    "#Returning Multiple Values using Data Classes\n",
    "from dataclasses import dataclass\n",
    "\n",
    "@dataclass\n",
    "class multiplevalues():\n",
    "    operation: str\n",
    "    num1: int = 0\n",
    "    num2: int = 0\n",
    "    def values(self) -> float:\n",
    "        return self.num1 + self.num2   \n",
    "\n",
    "#passing arguments into the Data Class \n",
    "all_values = multiplevalues(\"Addition\", 5, 10)\n",
    "v = all_values.values() \n",
    "\n",
    "print(v)\n",
    "print(all_values)"
   ]
  },
  {
   "cell_type": "markdown",
   "id": "cd2c4b50",
   "metadata": {},
   "source": [
    "**7. What is the difference between the \"pass by value\" and \"pass by reference\" concepts when it comes to function arguments in Python?**"
   ]
  },
  {
   "cell_type": "markdown",
   "id": "4c37b9ad",
   "metadata": {},
   "source": [
    "Pass by value – \n",
    "\n",
    "-It means that the value is directly passed as the value to the argument of the function. Here, the operation is done on the value and then the value is stored at the address. Pass by value is used for a copy of the variable.\n",
    "\n",
    "-Pass by value refers to a mechanism of copying the function parameter value to another variable."
   ]
  },
  {
   "cell_type": "code",
   "execution_count": 18,
   "id": "a98febe4",
   "metadata": {},
   "outputs": [
    {
     "name": "stdout",
     "output_type": "stream",
     "text": [
      "Inside the function {'Sujata': 4, 'Aishu': 5}\n",
      "Outside the function: {'Rutu': 1, 'Omkar': 2, 'Sunny': 3}\n"
     ]
    }
   ],
   "source": [
    "student = {'Rutu': 1, 'Omkar': 2, 'Sunny': 3}\n",
    "def test(student):\n",
    "    student = {'Sujata':4, 'Aishu':5}\n",
    "    print(\"Inside the function\", student)\n",
    "    return \n",
    "test(student)\n",
    "print(\"Outside the function:\", student)"
   ]
  },
  {
   "cell_type": "markdown",
   "id": "0c9891aa",
   "metadata": {},
   "source": [
    "Pass by reference –\n",
    "\n",
    "-It is used in some programming languages, where values to the argument of the function are passed by reference which means that the address of the variable is passed and then the operation is done on the value stored at these addresses.\n",
    "\n",
    "-Pass by reference refers to a mechanism of passing the actual parameters to the function"
   ]
  },
  {
   "cell_type": "code",
   "execution_count": 19,
   "id": "9262dded",
   "metadata": {},
   "outputs": [
    {
     "name": "stdout",
     "output_type": "stream",
     "text": [
      "Inside the function {'Rutu': 1, 'Omkar': 2, 'Sunny': 3, 'Sujata': 4, 'Aishu': 5}\n",
      "Outside the function: {'Rutu': 1, 'Omkar': 2, 'Sunny': 3, 'Sujata': 4, 'Aishu': 5}\n"
     ]
    }
   ],
   "source": [
    "student = {'Rutu': 1, 'Omkar': 2, 'Sunny': 3}\n",
    "def test(student):\n",
    "    new = {'Sujata':4, 'Aishu':5}\n",
    "    student.update(new)\n",
    "    print(\"Inside the function\", student)\n",
    "    return \n",
    "test(student)\n",
    "print(\"Outside the function:\", student)"
   ]
  },
  {
   "cell_type": "markdown",
   "id": "5a424243",
   "metadata": {},
   "source": [
    "**8. Create a function that can intake integer or decimal value and do following operations:**\n",
    "\n",
    "a. Logarithmic function (log x)\n",
    "\n",
    "b. Exponential function (exp(x))\n",
    "\n",
    "c. Power function with base 2 (2x)\n",
    "\n",
    "d. Square root"
   ]
  },
  {
   "cell_type": "markdown",
   "id": "4dfac891",
   "metadata": {},
   "source": [
    "a.  Logarithmic function (log x) or log(a, b) :- This function returns the logarithmic value of a with base b. If base is not mentioned, the computed value is of natural log."
   ]
  },
  {
   "cell_type": "code",
   "execution_count": 20,
   "id": "cb0fee12",
   "metadata": {},
   "outputs": [
    {
     "name": "stdout",
     "output_type": "stream",
     "text": [
      "The value of log 2 with base 3 is : 0.6309297535714574\n"
     ]
    }
   ],
   "source": [
    "# importing \"math\" for mathematical operations\n",
    "import math\n",
    "\n",
    "# returning the log of 2,3\n",
    "print (\"The value of log 2 with base 3 is : \", end=\"\")\n",
    "print (math.log(2,3))"
   ]
  },
  {
   "cell_type": "code",
   "execution_count": 21,
   "id": "4672aa81",
   "metadata": {},
   "outputs": [
    {
     "ename": "SyntaxError",
     "evalue": "invalid syntax (1225839342.py, line 1)",
     "output_type": "error",
     "traceback": [
      "\u001b[1;36m  Cell \u001b[1;32mIn[21], line 1\u001b[1;36m\u001b[0m\n\u001b[1;33m    b. Exponential function (exp(x)) or exp(a) :- This function returns the value of e raised to the power a (e**a).\u001b[0m\n\u001b[1;37m                   ^\u001b[0m\n\u001b[1;31mSyntaxError\u001b[0m\u001b[1;31m:\u001b[0m invalid syntax\n"
     ]
    }
   ],
   "source": [
    "b. Exponential function (exp(x)) or exp(a) :- This function returns the value of e raised to the power a (e**a)."
   ]
  },
  {
   "cell_type": "code",
   "execution_count": 22,
   "id": "d129f730",
   "metadata": {},
   "outputs": [
    {
     "name": "stdout",
     "output_type": "stream",
     "text": [
      "The e**4 value is : 54.598150033144236\n"
     ]
    }
   ],
   "source": [
    "# importing \"math\" for mathematical operations\n",
    "import math\n",
    "\n",
    "# returning the exp of 4\n",
    "print (\"The e**4 value is : \", end=\"\")\n",
    "print (math.exp(4))"
   ]
  },
  {
   "cell_type": "markdown",
   "id": "b31c6d6b",
   "metadata": {},
   "source": [
    " c. Power function with base 2 (2x) or Logarithmic function (log x)"
   ]
  },
  {
   "cell_type": "code",
   "execution_count": 23,
   "id": "9d4d9331",
   "metadata": {},
   "outputs": [
    {
     "name": "stdout",
     "output_type": "stream",
     "text": [
      "The value of log2 of 16 is : 4.0\n"
     ]
    }
   ],
   "source": [
    "# importing \"math\" for mathematical operations\n",
    "import math\n",
    " \n",
    "# returning the log2 of 16\n",
    "print (\"The value of log2 of 16 is : \", end=\"\")\n",
    "print (math.log2(16))"
   ]
  },
  {
   "cell_type": "markdown",
   "id": "abd1a163",
   "metadata": {},
   "source": [
    "d. sqrt() :- This function returns the square root of the number. "
   ]
  },
  {
   "cell_type": "code",
   "execution_count": 24,
   "id": "21b09e3e",
   "metadata": {},
   "outputs": [
    {
     "name": "stdout",
     "output_type": "stream",
     "text": [
      "The value of square root of 25 : 5.0\n"
     ]
    }
   ],
   "source": [
    "# importing \"math\" for mathematical operations\n",
    "import math\n",
    " \n",
    "# returning the square root of 25\n",
    "print (\"The value of square root of 25 : \", end=\"\")\n",
    "print (math.sqrt(25))"
   ]
  },
  {
   "cell_type": "markdown",
   "id": "d731dc8d",
   "metadata": {},
   "source": [
    "**9. Create a function that takes a full name as an argument and returns first name and last name.**"
   ]
  },
  {
   "cell_type": "code",
   "execution_count": 25,
   "id": "1d0e0be0",
   "metadata": {},
   "outputs": [
    {
     "name": "stdout",
     "output_type": "stream",
     "text": [
      "['Rutuja', 'Omkar', 'Thorat']\n"
     ]
    }
   ],
   "source": [
    "string = \"Rutuja,Omkar,Thorat\"\n",
    "words = string.split(',')\n",
    "print(words)"
   ]
  },
  {
   "cell_type": "code",
   "execution_count": null,
   "id": "8d14d102",
   "metadata": {},
   "outputs": [],
   "source": []
  }
 ],
 "metadata": {
  "kernelspec": {
   "display_name": "Python 3 (ipykernel)",
   "language": "python",
   "name": "python3"
  },
  "language_info": {
   "codemirror_mode": {
    "name": "ipython",
    "version": 3
   },
   "file_extension": ".py",
   "mimetype": "text/x-python",
   "name": "python",
   "nbconvert_exporter": "python",
   "pygments_lexer": "ipython3",
   "version": "3.10.9"
  }
 },
 "nbformat": 4,
 "nbformat_minor": 5
}
