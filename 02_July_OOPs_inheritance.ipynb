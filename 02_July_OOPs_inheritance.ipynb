{
 "cells": [
  {
   "cell_type": "markdown",
   "id": "4f8f5a9c",
   "metadata": {},
   "source": [
    "**1.Explain what inheritance is in object-oriented programming and why it is used.**"
   ]
  },
  {
   "cell_type": "markdown",
   "id": "98f447e4",
   "metadata": {},
   "source": [
    "In object-oriented programming (OOP), inheritance is a mechanism that allows a class to inherit properties and behaviors from another class. It is a fundamental concept in OOP that promotes code reuse and establishes relationships between classes."
   ]
  },
  {
   "cell_type": "markdown",
   "id": "72ddd914",
   "metadata": {},
   "source": [
    "**2.Discuss the concept of single inheritance and multiple inheritance, highlighting their differences and advantages.**"
   ]
  },
  {
   "cell_type": "markdown",
   "id": "63f88a41",
   "metadata": {},
   "source": [
    "Single Inheritance: \n",
    "Single inheritance enables a derived class to inherit properties from a single parent class, thus enabling code reusability and the addition of new features to existing code.\n"
   ]
  },
  {
   "cell_type": "code",
   "execution_count": 101,
   "id": "785feeaa",
   "metadata": {},
   "outputs": [
    {
     "name": "stdout",
     "output_type": "stream",
     "text": [
      "This function is in parent class.\n",
      "This function is in child class.\n"
     ]
    }
   ],
   "source": [
    "\n",
    "# single inheritance\n",
    " \n",
    "# Base class\n",
    "class Parent:\n",
    "    def func1(self):\n",
    "        print(\"This function is in parent class.\")\n",
    " # Derived class\n",
    " \n",
    "class Child(Parent):\n",
    "    def func2(self):\n",
    "        print(\"This function is in child class.\")\n",
    " \n",
    " \n",
    "# Driver's code\n",
    "object = Child()\n",
    "object.func1()\n",
    "object.func2()\n",
    "\n"
   ]
  },
  {
   "cell_type": "markdown",
   "id": "d275d545",
   "metadata": {},
   "source": [
    "Multiple Inheritance: \n",
    "When a class can be derived from more than one base class this type of inheritance is called multiple inheritances. In multiple inheritances, all the features of the base classes are inherited into the derived class. \n"
   ]
  },
  {
   "cell_type": "code",
   "execution_count": 102,
   "id": "a998c970",
   "metadata": {},
   "outputs": [
    {
     "name": "stdout",
     "output_type": "stream",
     "text": [
      "Father : Gorakhnath\n",
      "Mother : Sangita\n"
     ]
    }
   ],
   "source": [
    "\n",
    "# multiple inheritance\n",
    " \n",
    "# Base class1\n",
    "class Mother:\n",
    "    mothername = \"\"\n",
    " \n",
    "    def mother(self):\n",
    "        print(self.mothername)\n",
    " # Base class2\n",
    " \n",
    "class Father:\n",
    "    fathername = \"\"\n",
    " \n",
    "    def father(self):\n",
    "        print(self.fathername)\n",
    "# Derived class\n",
    " \n",
    "class Son(Mother, Father):\n",
    "    def parents(self):\n",
    "        print(\"Father :\", self.fathername)\n",
    "        print(\"Mother :\", self.mothername)\n",
    " \n",
    " \n",
    "# Driver's code\n",
    "s1 = Son()\n",
    "s1.fathername = \"Gorakhnath\"\n",
    "s1.mothername = \"Sangita\"\n",
    "s1.parents()"
   ]
  },
  {
   "cell_type": "markdown",
   "id": "79e15de2",
   "metadata": {},
   "source": [
    "**3.Explain the terms \"base class\" and \"derived class\" in the context of inheritance.**"
   ]
  },
  {
   "cell_type": "markdown",
   "id": "47c8a7f0",
   "metadata": {},
   "source": [
    "The class whose members are inherited is called the base class. The class that inherits the members of the base class is called the derived class."
   ]
  },
  {
   "cell_type": "markdown",
   "id": "d52eaeb3",
   "metadata": {},
   "source": [
    "**4.What is the significance of the \"protected\" access modifier in inheritance? How doesit differ from \"private\" and \"public\" modifiers?**"
   ]
  },
  {
   "cell_type": "markdown",
   "id": "c7dac25b",
   "metadata": {},
   "source": [
    "-Protected access modifiers allow the data members to be accessed by class, package, subclass (same package), subclass (different package). \n",
    "\n",
    "-The difference between public and protected is that public can be accessed from outside class but protected cannot be accessed from outside class.\n",
    "\n",
    "-Private members cannot be accessed from non-child class of outside package. Public modifier is the most accessible modifier. Private modifier is the most restricted modifier. Public modifier is the recommended modifier for method."
   ]
  },
  {
   "cell_type": "markdown",
   "id": "56bd19c1",
   "metadata": {},
   "source": [
    "**5.What is the purpose of the \"super\" keyword in inheritance? Provide an example.**"
   ]
  },
  {
   "cell_type": "markdown",
   "id": "926815df",
   "metadata": {},
   "source": [
    "In Python, the super() function is used to refer to the parent class or superclass. It allows you to call methods defined in the superclass from the subclass, enabling you to extend and customize the functionality inherited from the parent class."
   ]
  },
  {
   "cell_type": "code",
   "execution_count": 104,
   "id": "afeb72cb",
   "metadata": {},
   "outputs": [
    {
     "name": "stdout",
     "output_type": "stream",
     "text": [
      "The ID is: 10\n",
      "The Name is: Rutuja Omkar Thorat\n",
      "The Address is: Satara\n",
      "The Emails is: rutu@gmail.com\n"
     ]
    }
   ],
   "source": [
    "class Emp():\n",
    "    def __init__(self, id, name, Add):\n",
    "        self.id = id\n",
    "        self.name = name\n",
    "        self.Add = Add\n",
    "\n",
    "# Class freelancer inherits EMP\n",
    "class Freelance(Emp):\n",
    "    def __init__(self, id, name, Add, Emails):\n",
    "        super().__init__(id, name, Add)\n",
    "        self.Emails = Emails\n",
    "\n",
    "Emp_1 = Freelance(10, \"Rutuja Omkar Thorat\", \"Satara\" , \"rutu@gmail.com\")\n",
    "print('The ID is:', Emp_1.id)\n",
    "print('The Name is:', Emp_1.name)\n",
    "print('The Address is:', Emp_1.Add)\n",
    "print('The Emails is:', Emp_1.Emails)\n"
   ]
  },
  {
   "cell_type": "markdown",
   "id": "f7f8c0b9",
   "metadata": {},
   "source": [
    "**6.Create a base class called \"Vehicle\" with attributes like \"make\", \"model\", and \"year\".Then, create a derived class called \"Car\" that inherits from \"Vehicle\" and adds anattribute called \"fuel_type\". Implement appropriate methods in both classes.**"
   ]
  },
  {
   "cell_type": "code",
   "execution_count": 105,
   "id": "b3f79391",
   "metadata": {},
   "outputs": [],
   "source": [
    "class Vehicle:\n",
    "    def __init__(self, make, model, year):\n",
    "        self.make = make\n",
    "        self.model = model\n",
    "        self.year = year\n",
    "        \n",
    "    def display_info(self):\n",
    "        print(f\"The make is :{self.make}\")\n",
    "        print(f\"The model is: {self.model}\")\n",
    "        print(f\"The year is: {self.year}\")\n",
    "    "
   ]
  },
  {
   "cell_type": "code",
   "execution_count": 106,
   "id": "98ee4ebd",
   "metadata": {},
   "outputs": [],
   "source": [
    "class Car(Vehicle):\n",
    "    def __init__(self,model, year, fuel_type):\n",
    "        super().__init__(self,model, year)\n",
    "        self.fuel_type = fuel_type\n",
    "        \n",
    "    def display_info(self):\n",
    "        super().display_info()\n",
    "        print(f\"fuel_type is : {self.fuel_type}\")\n",
    "        "
   ]
  },
  {
   "cell_type": "code",
   "execution_count": 107,
   "id": "59d8fc16",
   "metadata": {},
   "outputs": [
    {
     "name": "stdout",
     "output_type": "stream",
     "text": [
      "The make is :Nissan\n",
      "The model is: Gasolin\n",
      "The year is: 2023\n"
     ]
    }
   ],
   "source": [
    "car1= Vehicle(\"Nissan\", \"Gasolin\", 2023)\n",
    "car1.display_info()"
   ]
  },
  {
   "cell_type": "code",
   "execution_count": 108,
   "id": "7fce771e",
   "metadata": {},
   "outputs": [
    {
     "name": "stdout",
     "output_type": "stream",
     "text": [
      "The make is :<__main__.Car object at 0x0000020D33CBEDD0>\n",
      "The model is: Altima\n",
      "The year is: 2023\n",
      "fuel_type is : Gasolin\n"
     ]
    }
   ],
   "source": [
    "car1= Car(\"Altima\", 2023, \"Gasolin\")\n",
    "car1.display_info()"
   ]
  },
  {
   "cell_type": "markdown",
   "id": "1853ff59",
   "metadata": {},
   "source": [
    "**7.Create a base class called \"Employee\" with attributes like \"name\" and \"salary\".Derive two classes, \"Manager\" and \"Developer,\" from \"Employee.\" Add an additionalattribute called \"department\" for the \"Manager\" class and \"programming_language\"for the \"Developer\" class.**"
   ]
  },
  {
   "cell_type": "code",
   "execution_count": 109,
   "id": "4ebc9f5b",
   "metadata": {},
   "outputs": [],
   "source": [
    "class Employee:\n",
    "    def __init__(self, name, salary):\n",
    "        self.name = name\n",
    "        self.salary = salary\n",
    "        \n",
    "    def display_info(self):\n",
    "        print(f\"The name is : {self.name}\")\n",
    "        print(f\"The salary is: {self.salary}\")"
   ]
  },
  {
   "cell_type": "code",
   "execution_count": 110,
   "id": "7cdae24d",
   "metadata": {},
   "outputs": [
    {
     "name": "stdout",
     "output_type": "stream",
     "text": [
      "The name is : Rutuja\n",
      "The salary is: 400000\n"
     ]
    }
   ],
   "source": [
    "Emp1=Employee(\"Rutuja\",400000)\n",
    "Emp1.display_info()"
   ]
  },
  {
   "cell_type": "code",
   "execution_count": 111,
   "id": "4c042170",
   "metadata": {},
   "outputs": [],
   "source": [
    "class Manager(Employee):\n",
    "    def __init__(self, salary, department):\n",
    "        super().__init__(self, salary)\n",
    "        self.department = department\n",
    "        \n",
    "    def display_info(self):\n",
    "        super().display_info()\n",
    "        print(f\"department is : {self.department}\")"
   ]
  },
  {
   "cell_type": "code",
   "execution_count": 112,
   "id": "67fadd80",
   "metadata": {},
   "outputs": [
    {
     "name": "stdout",
     "output_type": "stream",
     "text": [
      "The name is : <__main__.Manager object at 0x0000020D33CBF670>\n",
      "The salary is: 400000\n",
      "department is : CSE\n"
     ]
    }
   ],
   "source": [
    "Emp1= Manager(400000, \"CSE\")\n",
    "Emp1.display_info()"
   ]
  },
  {
   "cell_type": "code",
   "execution_count": 113,
   "id": "75ac4d57",
   "metadata": {},
   "outputs": [],
   "source": [
    "class Developer(Employee):\n",
    "    def __init__(self, salary, programming_language):\n",
    "        super().__init__(self, salary)\n",
    "        self.programming_language = programming_language\n",
    "        \n",
    "    def display_info(self):\n",
    "        super().display_info()\n",
    "        print(f\"The programming_language is:{self.programming_language}\")"
   ]
  },
  {
   "cell_type": "code",
   "execution_count": 114,
   "id": "7d19790b",
   "metadata": {},
   "outputs": [
    {
     "name": "stdout",
     "output_type": "stream",
     "text": [
      "The name is : <__main__.Developer object at 0x0000020D33CBE290>\n",
      "The salary is: 400000\n",
      "The programming_language is:Python\n"
     ]
    }
   ],
   "source": [
    "Emp=Developer(400000,\"Python\")\n",
    "Emp.display_info()"
   ]
  },
  {
   "cell_type": "markdown",
   "id": "09319831",
   "metadata": {},
   "source": [
    "**8.Design a base class called \"Shape\" with attributes like \"colour\" and \"border_width\".Create derived classes, \"Rectangle\" and \"Circle,\" that inherit from \"Shape\" and addspecific attributes like \"length\" and \"width\" for the \"Rectangle\" class and \"radius\" for the \"Circle\" class.**"
   ]
  },
  {
   "cell_type": "code",
   "execution_count": 115,
   "id": "bab92496",
   "metadata": {},
   "outputs": [],
   "source": [
    "class Shape:\n",
    "    def __init__(self, colour, border_width):\n",
    "        self.colour = colour\n",
    "        self.border_width = border_width\n",
    "        \n",
    "    def display_info(self):\n",
    "        print(f\"The colour is : {self. colour}\")\n",
    "        print(f\"The border_width is: {self.border_width}\")"
   ]
  },
  {
   "cell_type": "code",
   "execution_count": 116,
   "id": "77cabb8a",
   "metadata": {},
   "outputs": [
    {
     "name": "stdout",
     "output_type": "stream",
     "text": [
      "The colour is : Blue\n",
      "The border_width is: 23\n"
     ]
    }
   ],
   "source": [
    "shape1=Shape(\"Blue\",23)\n",
    "shape1.display_info()"
   ]
  },
  {
   "cell_type": "code",
   "execution_count": 117,
   "id": "3c1dfd25",
   "metadata": {},
   "outputs": [],
   "source": [
    "class Rectangle(Shape):\n",
    "    def __init__(self, border_width, length):\n",
    "        super().__init__(self, border_width)\n",
    "        self.length = length\n",
    "        \n",
    "    def display_info(self):\n",
    "        super().display_info()\n",
    "        print(f\"length is : {self.length}\")\n"
   ]
  },
  {
   "cell_type": "code",
   "execution_count": 118,
   "id": "eddeefd1",
   "metadata": {},
   "outputs": [
    {
     "name": "stdout",
     "output_type": "stream",
     "text": [
      "The colour is : <__main__.Rectangle object at 0x0000020D33CBF820>\n",
      "The border_width is: 20\n",
      "length is : 12\n"
     ]
    }
   ],
   "source": [
    "shape1=Rectangle(20,12)\n",
    "shape1.display_info()"
   ]
  },
  {
   "cell_type": "code",
   "execution_count": 119,
   "id": "727916a4",
   "metadata": {},
   "outputs": [],
   "source": [
    "class Rectangle(Shape):\n",
    "    def __init__(self, length, width):\n",
    "        super().__init__(self, length)\n",
    "        self.width = width\n",
    "        \n",
    "    def display_info(self):\n",
    "        super().display_info()\n",
    "        print(f\"width is : {self.width}\")"
   ]
  },
  {
   "cell_type": "code",
   "execution_count": 120,
   "id": "9540523c",
   "metadata": {},
   "outputs": [
    {
     "name": "stdout",
     "output_type": "stream",
     "text": [
      "The colour is : <__main__.Rectangle object at 0x0000020D33CBF370>\n",
      "The border_width is: 10\n",
      "width is : 12\n"
     ]
    }
   ],
   "source": [
    "shape1=Rectangle(10,12)\n",
    "shape1.display_info()"
   ]
  },
  {
   "cell_type": "code",
   "execution_count": 121,
   "id": "3f5fd80d",
   "metadata": {},
   "outputs": [],
   "source": [
    "class Circle(Shape):\n",
    "    def __init__(self,width, radius):\n",
    "        super().__init__(self,width)\n",
    "        self.radius = radius\n",
    "        \n",
    "    def display_info(self):\n",
    "        super().display_info()\n",
    "        print(f\"radius is : {self.radius}\")"
   ]
  },
  {
   "cell_type": "code",
   "execution_count": 122,
   "id": "fc7fd83e",
   "metadata": {},
   "outputs": [
    {
     "name": "stdout",
     "output_type": "stream",
     "text": [
      "The colour is : <__main__.Circle object at 0x0000020D33CBE740>\n",
      "The border_width is: 10\n",
      "radius is : 4\n"
     ]
    }
   ],
   "source": [
    "shape1=Circle(10,4)\n",
    "shape1.display_info()"
   ]
  },
  {
   "cell_type": "markdown",
   "id": "1b926528",
   "metadata": {},
   "source": [
    "**9.Create a base class called \"Device\" with attributes like \"brand\" and \"model.\" Derive two classes, \"Phone\" and \"Tablet,\" from \"Device.\" Add specific attributes like\"screen_size\" for the \"Phone\" class and \"battery_capacity\" for the \"Tablet\" class.**"
   ]
  },
  {
   "cell_type": "code",
   "execution_count": 123,
   "id": "12e7e86f",
   "metadata": {},
   "outputs": [
    {
     "name": "stdout",
     "output_type": "stream",
     "text": [
      "Redmi Redmi5 8cm 24hr\n"
     ]
    }
   ],
   "source": [
    "class Device:\n",
    "\n",
    "    # Constructor\n",
    "    def __init__(self, brand, model ):\n",
    "        self.brand = brand\n",
    "        self.model = model\n",
    "    \n",
    "    def getbrand(self):\n",
    "        return self.brand\n",
    "    \n",
    "    def getmodel(self):\n",
    "        return self.model\n",
    "\n",
    "class Phone(Device):\n",
    "\n",
    "    # Constructor\n",
    "    def __init__(self, brand, model, screen_size):\n",
    "        Device.__init__(self, brand, model )\n",
    "        self.screen_size = screen_size\n",
    "    \n",
    "\n",
    "    def getscreen_size(self):\n",
    "        return self.screen_size\n",
    "\n",
    "\n",
    "class Tablet(Phone):\n",
    "\n",
    "    # Constructor\n",
    "    def __init__(self, brand, model, screen_size, battery_capacity):\n",
    "        Phone.__init__(self, brand, model, screen_size)\n",
    "        self.battery_capacity = battery_capacity\n",
    "\n",
    "\n",
    "    def getbattery_capacity(self):\n",
    "        return self.battery_capacity\n",
    "\n",
    "\n",
    "# Driver code\n",
    "g = Tablet(\"Redmi\", \"Redmi5\", \"8cm\", \"24hr\")\n",
    "print(g.getbrand(), g.getmodel(), g.getscreen_size(), g.getbattery_capacity())\n"
   ]
  },
  {
   "cell_type": "markdown",
   "id": "76c7ec65",
   "metadata": {},
   "source": [
    "**10.Create a base class called \"BankAccount\" with attributes like \"account_number\" and \"balance.\" Derive two classes,\"SavingsAccount\" and \"CheckingAccount,\" from\"BankAccount.\" Add specific methods like \"calculate_interest\" for the\"SavingsAccount\" class and \"deduct_fees\" for the \"CheckingAccount\" class.**"
   ]
  },
  {
   "cell_type": "code",
   "execution_count": 133,
   "id": "1342e425",
   "metadata": {},
   "outputs": [
    {
     "name": "stdout",
     "output_type": "stream",
     "text": [
      "The principal is 8\n",
      "The time period is 6\n",
      "The rate of interest is 8\n",
      "The calculate interest is: 3.84\n",
      "account_number:12345\n",
      "balance_is: 100000\n",
      "deduct_fees : 200000\n"
     ]
    }
   ],
   "source": [
    "class BankAccount(): \n",
    "    def account_number(self): \n",
    "        print(\"account_number:12345\")\n",
    "        \n",
    "    def balance(self):\n",
    "        print(\"balance_is: 100000\")\n",
    "    \n",
    "class SavingsAccount(BankAccount):\n",
    "    def calculate_interest(p,t,r):\n",
    "        print('The principal is', p)\n",
    "        print('The time period is', t)\n",
    "        print('The rate of interest is',r)\n",
    "        \n",
    "        si = (p * t * r)/100\n",
    "        print('The calculate interest is:', si)\n",
    "        return si\n",
    "\n",
    "    calculate_interest(8, 6, 8)\n",
    "\n",
    "\n",
    "class CheckingAccount(BankAccount):\n",
    "    def deduct_fees(self):\n",
    "        print(\"deduct_fees : 200000\")\n",
    "\n",
    "call = CheckingAccount()\n",
    "call.account_number()\n",
    "call.balance()\n",
    "call.deduct_fees()"
   ]
  },
  {
   "cell_type": "code",
   "execution_count": null,
   "id": "45ba9822",
   "metadata": {},
   "outputs": [],
   "source": []
  },
  {
   "cell_type": "code",
   "execution_count": null,
   "id": "098c9e50",
   "metadata": {},
   "outputs": [],
   "source": []
  }
 ],
 "metadata": {
  "kernelspec": {
   "display_name": "Python 3 (ipykernel)",
   "language": "python",
   "name": "python3"
  },
  "language_info": {
   "codemirror_mode": {
    "name": "ipython",
    "version": 3
   },
   "file_extension": ".py",
   "mimetype": "text/x-python",
   "name": "python",
   "nbconvert_exporter": "python",
   "pygments_lexer": "ipython3",
   "version": "3.10.9"
  }
 },
 "nbformat": 4,
 "nbformat_minor": 5
}
