{
 "cells": [
  {
   "cell_type": "markdown",
   "id": "bb4da293",
   "metadata": {},
   "source": [
    "**1. What is the role of try and exception block?**"
   ]
  },
  {
   "cell_type": "markdown",
   "id": "1ba099f8",
   "metadata": {},
   "source": [
    "The try block lets you test a block of code for errors."
   ]
  },
  {
   "cell_type": "code",
   "execution_count": 1,
   "id": "e42a5c68",
   "metadata": {},
   "outputs": [
    {
     "name": "stdout",
     "output_type": "stream",
     "text": [
      "An exception occurred\n"
     ]
    }
   ],
   "source": [
    "try:\n",
    "    print(x)\n",
    "except:\n",
    "    print(\"An exception occurred\")"
   ]
  },
  {
   "cell_type": "markdown",
   "id": "248a7d31",
   "metadata": {},
   "source": [
    "The except block lets you handle the error."
   ]
  },
  {
   "cell_type": "code",
   "execution_count": 2,
   "id": "87952d0a",
   "metadata": {},
   "outputs": [
    {
     "name": "stdout",
     "output_type": "stream",
     "text": [
      "Variable x is not defined\n"
     ]
    }
   ],
   "source": [
    "try:\n",
    "    print(x)\n",
    "except NameError:\n",
    "    print(\"Variable x is not defined\")\n",
    "except:\n",
    "    print(\"Something else went wrong\")"
   ]
  },
  {
   "cell_type": "markdown",
   "id": "b22a2f78",
   "metadata": {},
   "source": [
    "**2. What is the syntax for a basic try-except block?**"
   ]
  },
  {
   "cell_type": "markdown",
   "id": "3c40cd4f",
   "metadata": {},
   "source": [
    "try:\n",
    "\n",
    "    # Some Code\n",
    "    \n",
    "except:\n",
    "\n",
    "    # Executed if error in the\n",
    "    # try block"
   ]
  },
  {
   "cell_type": "markdown",
   "id": "41b95263",
   "metadata": {},
   "source": [
    "**3. What happens if an exception occurs inside a try block and there is no matching except block?**"
   ]
  },
  {
   "cell_type": "markdown",
   "id": "26b38cf6",
   "metadata": {},
   "source": [
    "-If any exception occurs, the try clause will be skipped and except clause will run.\n",
    "\n",
    "-If any exception occurs, but the except clause within the code doesn’t handle it, it is passed on to the outer try statements.\n",
    "If the exception is left unhandled, then the execution stops."
   ]
  },
  {
   "cell_type": "markdown",
   "id": "90feeacf",
   "metadata": {},
   "source": [
    "**4. What is the difference between using a bare except block and specifying a specific exception type?**"
   ]
  },
  {
   "cell_type": "markdown",
   "id": "dbca0ed9",
   "metadata": {},
   "source": [
    "-A bare except: clause will catch SystemExit and KeyboardInterrupt exceptions, making it harder to interrupt a program with Control-C, and can disguise other problems. If you want to catch all exceptions that signal program errors.\n",
    "\n",
    "-except Exception: (bare except is equivalent to except BaseException:)."
   ]
  },
  {
   "cell_type": "markdown",
   "id": "1b740c0e",
   "metadata": {},
   "source": [
    "**5. Can you have nested try-except blocks in Python? If yes, then give an example.**"
   ]
  },
  {
   "cell_type": "markdown",
   "id": "1152d3e3",
   "metadata": {},
   "source": [
    "-In Java, using a try block inside another try block is permitted. It is called as nested try block.\n",
    "\n",
    "-Every statement that we enter a statement in try block, context of that exception is pushed onto the stack."
   ]
  },
  {
   "cell_type": "code",
   "execution_count": 3,
   "id": "c8d6d405",
   "metadata": {},
   "outputs": [
    {
     "name": "stdout",
     "output_type": "stream",
     "text": [
      "outer try block\n",
      "Inner try block\n"
     ]
    }
   ],
   "source": [
    "#In python nested try except finally blocks are allowed.\n",
    "#We can take try-except blocks inside try block.\n",
    "#We can take try-except blocks inside except block.\n",
    "\n",
    "try:\n",
    "    print(\"outer try block\")\n",
    "    try:\n",
    "        print(\"Inner try block\")\n",
    "    except ZeroDivisionError:\n",
    "        print(\"Inner except block\")\n",
    "except:\n",
    "    print(\"outer except block\")\n"
   ]
  },
  {
   "cell_type": "markdown",
   "id": "4fe038ae",
   "metadata": {},
   "source": [
    "**6. Can we use multiple exception blocks, if yes then give an example.**"
   ]
  },
  {
   "cell_type": "code",
   "execution_count": 4,
   "id": "98f9836f",
   "metadata": {},
   "outputs": [
    {
     "name": "stdout",
     "output_type": "stream",
     "text": [
      "You divided by 0\n"
     ]
    }
   ],
   "source": [
    "a,b=1,0\n",
    "try:\n",
    "    print(a/b)\n",
    "    print(\"This won't be printed\")\n",
    "    print('10'+10)\n",
    "except TypeError:\n",
    "    print(\"You added values of incompatible types\")\n",
    "except ZeroDivisionError:\n",
    "    print(\"You divided by 0\")"
   ]
  },
  {
   "cell_type": "markdown",
   "id": "f21e41a7",
   "metadata": {},
   "source": [
    "**7.Write the reason due to which following errors are raised:**\n",
    "\n",
    "a. EOFError\n",
    "\n",
    "b. FloatingPointError\n",
    "\n",
    "c. IndexError\n",
    "\n",
    "d. MemoryError\n",
    "\n",
    "e. OverflowError\n",
    "\n",
    "f. TabError\n",
    "\n",
    "g. ValueError"
   ]
  },
  {
   "cell_type": "markdown",
   "id": "63546fd7",
   "metadata": {},
   "source": [
    "a.EOFError:\n",
    "\n",
    "-EOFError is raised when one of the built-in functions input() or raw_input() hits an end-of-file condition (EOF) without reading any data. This error is sometimes experienced while using online IDEs. This occurs when we have asked the user for input but have not provided any input in the input box.\n",
    "\n",
    "-Raised when the input() function hits the end-of-file condition."
   ]
  },
  {
   "cell_type": "markdown",
   "id": "0e80e8c4",
   "metadata": {},
   "source": [
    "b.FloatingPointError:\n",
    "\n",
    "-FloatingPointError is an error that occurs when a floating-point calculation is attempted that is not supported by the available hardware or software. It occurs when trying to calculate a number that is too large or too small to represent as a floating-point number.\n",
    "\n",
    "-Raised when a floating point operation fails."
   ]
  },
  {
   "cell_type": "markdown",
   "id": "7b0ca119",
   "metadata": {},
   "source": [
    "c. IndexError:\n",
    "\n",
    "-Raised when the index of a sequence is out of range."
   ]
  },
  {
   "cell_type": "code",
   "execution_count": 6,
   "id": "3f7acf5d",
   "metadata": {},
   "outputs": [
    {
     "ename": "IndexError",
     "evalue": "list index out of range",
     "output_type": "error",
     "traceback": [
      "\u001b[1;31m---------------------------------------------------------------------------\u001b[0m",
      "\u001b[1;31mIndexError\u001b[0m                                Traceback (most recent call last)",
      "Cell \u001b[1;32mIn[6], line 2\u001b[0m\n\u001b[0;32m      1\u001b[0m L1\u001b[38;5;241m=\u001b[39m[\u001b[38;5;241m1\u001b[39m,\u001b[38;5;241m2\u001b[39m,\u001b[38;5;241m3\u001b[39m]\n\u001b[1;32m----> 2\u001b[0m \u001b[43mL1\u001b[49m\u001b[43m[\u001b[49m\u001b[38;5;241;43m3\u001b[39;49m\u001b[43m]\u001b[49m\n",
      "\u001b[1;31mIndexError\u001b[0m: list index out of range"
     ]
    }
   ],
   "source": [
    "L1=[1,2,3]\n",
    "L1[3]"
   ]
  },
  {
   "cell_type": "markdown",
   "id": "4a2848b1",
   "metadata": {},
   "source": [
    "d. MemoryError:"
   ]
  },
  {
   "cell_type": "markdown",
   "id": "3e527a17",
   "metadata": {},
   "source": [
    "-Raised when an operation runs out of memory."
   ]
  },
  {
   "cell_type": "markdown",
   "id": "53944601",
   "metadata": {},
   "source": [
    "e. OverflowError:\n",
    "    \n",
    "-Raised when the result of an arithmetic operation is too large to be represented."
   ]
  },
  {
   "cell_type": "markdown",
   "id": "83aca2c2",
   "metadata": {},
   "source": [
    "f. TabError\n",
    "\n",
    "-Raised when the indentation consists of inconsistent tabs and spaces."
   ]
  },
  {
   "cell_type": "markdown",
   "id": "d385e2ef",
   "metadata": {},
   "source": [
    "g. ValueError\n",
    "\n",
    "-Raised when a function gets an argument of correct type but improper value."
   ]
  },
  {
   "cell_type": "code",
   "execution_count": 7,
   "id": "78a71900",
   "metadata": {},
   "outputs": [
    {
     "ename": "ValueError",
     "evalue": "invalid literal for int() with base 10: 'xyz'",
     "output_type": "error",
     "traceback": [
      "\u001b[1;31m---------------------------------------------------------------------------\u001b[0m",
      "\u001b[1;31mValueError\u001b[0m                                Traceback (most recent call last)",
      "Cell \u001b[1;32mIn[7], line 1\u001b[0m\n\u001b[1;32m----> 1\u001b[0m \u001b[38;5;28;43mint\u001b[39;49m\u001b[43m(\u001b[49m\u001b[38;5;124;43m'\u001b[39;49m\u001b[38;5;124;43mxyz\u001b[39;49m\u001b[38;5;124;43m'\u001b[39;49m\u001b[43m)\u001b[49m\n",
      "\u001b[1;31mValueError\u001b[0m: invalid literal for int() with base 10: 'xyz'"
     ]
    }
   ],
   "source": [
    " int('xyz')"
   ]
  },
  {
   "cell_type": "markdown",
   "id": "dc1faad2",
   "metadata": {},
   "source": [
    "**8. Write code for the following given scenario and add try-exception block to it.**\n",
    "\n",
    "a. Program to divide two numbers\n",
    "\n",
    "b. Program to convert a string to an integer\n",
    "\n",
    "c. Program to access an element in a list\n",
    "\n",
    "d. Program to handle a specific exception\n",
    "\n",
    "e. Program to handle any exception"
   ]
  },
  {
   "cell_type": "code",
   "execution_count": 9,
   "id": "360a5911",
   "metadata": {},
   "outputs": [
    {
     "name": "stdout",
     "output_type": "stream",
     "text": [
      "Enter First Number: 4\n",
      "Enter Second Number: 2\n",
      "2.0\n"
     ]
    }
   ],
   "source": [
    "#a. Program to divide two numbers\n",
    "try:\n",
    "    num1 = int(input(\"Enter First Number: \"))\n",
    "    num2 = int(input(\"Enter Second Number: \"))\n",
    "\n",
    "    result = num1 / num2\n",
    "\n",
    "    print(result)\n",
    "except ValueError as e:\n",
    "    print(\"Invalid Input Please Input Integer...\")\n",
    "except ZeroDivisionError as e:\n",
    "    print(e)"
   ]
  },
  {
   "cell_type": "code",
   "execution_count": 10,
   "id": "76a170ed",
   "metadata": {},
   "outputs": [
    {
     "name": "stdout",
     "output_type": "stream",
     "text": [
      "12\n"
     ]
    }
   ],
   "source": [
    "#b. Program to convert a string to an integer\n",
    "\n",
    "a_string = \"12\"\n",
    "\n",
    "try:\n",
    "    an_integer = int(a_string)\n",
    "    print(an_integer)\n",
    "except ValueError:\n",
    "    print(\"Catch Error\")"
   ]
  },
  {
   "cell_type": "code",
   "execution_count": 11,
   "id": "a9a54f13",
   "metadata": {},
   "outputs": [
    {
     "name": "stdout",
     "output_type": "stream",
     "text": [
      "The original list : [6, 4, 8, 9, 10]\n",
      "The value after catching error : Element found\n"
     ]
    }
   ],
   "source": [
    "#c. Program to access an element in a list\n",
    "# Using try + except\n",
    "\n",
    "# initializing list\n",
    "test_list = [6, 4, 8, 9, 10]\n",
    "\n",
    "# printing list\n",
    "print(\"The original list : \" + str(test_list))\n",
    "\n",
    "# Using try + except \n",
    "try :\n",
    "    test_list.index(6)\n",
    "    res = \"Element found\"\n",
    "except ValueError :\n",
    "    res = \"Element not in list !\"\n",
    "\n",
    "# Printing result\n",
    "print(\"The value after catching error : \" + str(res))\n"
   ]
  },
  {
   "cell_type": "code",
   "execution_count": 12,
   "id": "f437baff",
   "metadata": {},
   "outputs": [
    {
     "name": "stdout",
     "output_type": "stream",
     "text": [
      "5.0\n"
     ]
    }
   ],
   "source": [
    "#d. Program to handle a specific exception\n",
    "\n",
    "try:\n",
    "    numerator = 10\n",
    "    denominator = 2\n",
    "\n",
    "    result = numerator/denominator\n",
    "\n",
    "    print(result)\n",
    "except:\n",
    "    print(\"Error: Denominator cannot be 0.\")"
   ]
  },
  {
   "cell_type": "code",
   "execution_count": 13,
   "id": "facd3431",
   "metadata": {},
   "outputs": [
    {
     "name": "stdout",
     "output_type": "stream",
     "text": [
      "Your answer is : 2\n"
     ]
    }
   ],
   "source": [
    "#e. Program to handle any exception\n",
    "def divide(x, y):\n",
    "    try:\n",
    "        # Floor Division : Gives only Fractional Part as Answer\n",
    "        result = x // y\n",
    "        print(\"Your answer is :\", result)\n",
    "    except ZeroDivisionError:\n",
    "        print(\"You are dividing by zero \")\n",
    "\n",
    "# Look at parameters and note the working of Program\n",
    "divide(4 , 2)\n"
   ]
  },
  {
   "cell_type": "code",
   "execution_count": null,
   "id": "4127b9a4",
   "metadata": {},
   "outputs": [],
   "source": []
  }
 ],
 "metadata": {
  "kernelspec": {
   "display_name": "Python 3 (ipykernel)",
   "language": "python",
   "name": "python3"
  },
  "language_info": {
   "codemirror_mode": {
    "name": "ipython",
    "version": 3
   },
   "file_extension": ".py",
   "mimetype": "text/x-python",
   "name": "python",
   "nbconvert_exporter": "python",
   "pygments_lexer": "ipython3",
   "version": "3.10.9"
  }
 },
 "nbformat": 4,
 "nbformat_minor": 5
}
