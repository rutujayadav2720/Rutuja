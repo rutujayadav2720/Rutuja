{
 "cells": [
  {
   "cell_type": "markdown",
   "id": "763dc769",
   "metadata": {},
   "source": [
    "**Q.1. What are keywords in python? Using the keyword library, print all the python keywords.**"
   ]
  },
  {
   "cell_type": "markdown",
   "id": "4f6a2bb0",
   "metadata": {},
   "source": [
    "Keywords in Python are reserved words that can not be used as a variable name, function name, or any other identifier.\n",
    "The complete list of Python keywords are False, None, True, and, as, assert, async, await, break, class, continue, def, del, elif, else, except, finally, for, from, global, if, import, in, is, lambda, nonlocal, not, or, pass, raise, return, try, while, with, yield."
   ]
  },
  {
   "cell_type": "code",
   "execution_count": 1,
   "id": "e3bc962e",
   "metadata": {},
   "outputs": [
    {
     "name": "stdout",
     "output_type": "stream",
     "text": [
      "The list of keywords is : \n",
      "['False', 'None', 'True', 'and', 'as', 'assert', 'async', 'await', 'break', 'class', 'continue', 'def', 'del', 'elif', 'else', 'except', 'finally', 'for', 'from', 'global', 'if', 'import', 'in', 'is', 'lambda', 'nonlocal', 'not', 'or', 'pass', 'raise', 'return', 'try', 'while', 'with', 'yield']\n"
     ]
    }
   ],
   "source": [
    "# importing \"keyword\" for keyword operations\n",
    "import keyword\n",
    " \n",
    "# printing all keywords at once using \"kwlist()\"\n",
    "print(\"The list of keywords is : \")\n",
    "print(keyword.kwlist)"
   ]
  },
  {
   "cell_type": "markdown",
   "id": "9eba8c92",
   "metadata": {},
   "source": [
    "**Q.2. What are the rules to create variables in python?**"
   ]
  },
  {
   "cell_type": "markdown",
   "id": "5f196a67",
   "metadata": {},
   "source": [
    "Rules for Python variables:\n",
    "\n",
    "1.A variable name must start with a letter or the underscore character.\n",
    "\n",
    "2.A variable name cannot start with a number\n",
    "\n",
    "3.A variable name can only contain alpha-numeric characters and underscores (A-z, 0-9, and _ )\n",
    "\n",
    "4.Variable names are case-sensitive (age, Age and AGE are three different variables)"
   ]
  },
  {
   "cell_type": "markdown",
   "id": "08af5ce1",
   "metadata": {},
   "source": [
    "**Q.3. What are the standards and conventions followed for the nomenclature of variables in\n",
    "python to improve code readability and maintainability?**"
   ]
  },
  {
   "cell_type": "markdown",
   "id": "da0b10dd",
   "metadata": {},
   "source": [
    "Pep8, also known as Python Enhancement Proposal 8.\n",
    "\n",
    "Naming Conventions: Pep8 provides specific guidelines for naming variables, functions, and classes. It suggests using lowercase letters for variables and functions, separating words with underscores (snake_case). Class names should be written in CamelCase, starting with an uppercase letter."
   ]
  },
  {
   "cell_type": "markdown",
   "id": "be5de9e6",
   "metadata": {},
   "source": [
    "**Q.4. What will happen if a keyword is used as a variable name?**"
   ]
  },
  {
   "cell_type": "markdown",
   "id": "6fdae72a",
   "metadata": {},
   "source": [
    "Keywords define the language's syntax rules and structure, and they cannot be used as variable names.\n",
    "\n",
    "Keywords are the words in programming language which have a special meaning decided the lanuage. So we cannot use them as a variable as we cannot assign any value to them. In python keywords are case sensitive so we can use true as a variable but not TRUE."
   ]
  },
  {
   "cell_type": "markdown",
   "id": "630d33f3",
   "metadata": {},
   "source": [
    "**Q.5. For what purpose def keyword is used?**"
   ]
  },
  {
   "cell_type": "markdown",
   "id": "e21e9b32",
   "metadata": {},
   "source": [
    "Python def keyword is used to define a function, it is placed before a function name that is provided by the user to create a user-defined function. In Python, a function is a logical unit of code containing a sequence of statements indented under a name given using the “def” keyword."
   ]
  },
  {
   "cell_type": "markdown",
   "id": "09fcf67f",
   "metadata": {},
   "source": [
    "**Q.6. What is the operation of this special character ‘\\’?**"
   ]
  },
  {
   "cell_type": "markdown",
   "id": "80081299",
   "metadata": {},
   "source": [
    "Backslash(\\)----->Separates locations in a file or network path OR"
   ]
  },
  {
   "cell_type": "markdown",
   "id": "66e4b90a",
   "metadata": {},
   "source": [
    "**Q.7. Give an example of the following conditions:**\n",
    "\n",
    "(i) Homogeneous list\n",
    "\n",
    "(ii) Heterogeneous set\n",
    "\n",
    "(iii) Homogeneous tuple"
   ]
  },
  {
   "cell_type": "markdown",
   "id": "fded73c2",
   "metadata": {},
   "source": [
    "*(i) Homogeneous list:*\n",
    "\n",
    "-In Python, lists are used to store multiple data at once.\n",
    "\n",
    "-We create a list by placing elements inside [], separated by commas.\n",
    "\n",
    "-store elements of different types (integer, float, string, etc.)store elements of different types (integer, float, string, etc.)\n",
    "\n",
    "-store duplicate elements"
   ]
  },
  {
   "cell_type": "code",
   "execution_count": 2,
   "id": "ae04e6b0",
   "metadata": {},
   "outputs": [
    {
     "data": {
      "text/plain": [
       "[1, 'Hello', 3.4, 'Hello', 1]"
      ]
     },
     "execution_count": 2,
     "metadata": {},
     "output_type": "execute_result"
    }
   ],
   "source": [
    "# list with elements of different data types\n",
    "list1 = [1, \"Hello\", 3.4]\n",
    "\n",
    "# list with duplicate elements\n",
    "list1 = [1, \"Hello\", 3.4, \"Hello\", 1]\n",
    "\n",
    "list1"
   ]
  },
  {
   "cell_type": "markdown",
   "id": "67aebdc6",
   "metadata": {},
   "source": [
    "*(ii) Heterogeneous set:*\n",
    "\n",
    "Python sets can store heterogeneous elements in it, i.e., a set can store a mixture of string, integer, boolean, etc datatypes."
   ]
  },
  {
   "cell_type": "code",
   "execution_count": 3,
   "id": "83811ac6",
   "metadata": {},
   "outputs": [
    {
     "name": "stdout",
     "output_type": "stream",
     "text": [
      "{True, 52.7, 'Rutu', 'for', 10}\n"
     ]
    }
   ],
   "source": [
    "# Python example demonstrate that a set\n",
    "# can store heterogeneous elements\n",
    "myset = {\"Rutu\", \"for\", 10, 52.7, True}\n",
    "print(myset)"
   ]
  },
  {
   "cell_type": "markdown",
   "id": "ac1e9f9a",
   "metadata": {},
   "source": [
    "*(iii) Homogeneous tuple:*\n",
    "\n",
    "-Tuples are used to store multiple items in a single variable.\n",
    "\n",
    "-Tuple is one of 4 built-in data types in Python used to store collections of data, the other 3 are List, Set, and Dictionary, all with different qualities and usage.\n",
    "\n",
    "-A tuple is a collection which is ordered and unchangeable.\n",
    "\n",
    "-Tuples are written with round brackets."
   ]
  },
  {
   "cell_type": "code",
   "execution_count": 4,
   "id": "414446fa",
   "metadata": {},
   "outputs": [
    {
     "data": {
      "text/plain": [
       "('abc', 34, True, 40, 'female')"
      ]
     },
     "execution_count": 4,
     "metadata": {},
     "output_type": "execute_result"
    }
   ],
   "source": [
    "#A tuple with strings, integers and boolean values\n",
    "tuple1 = (\"abc\", 34, True, 40, \"female\")\n",
    "tuple1"
   ]
  },
  {
   "cell_type": "markdown",
   "id": "5624b5ed",
   "metadata": {},
   "source": [
    "**Q.8. Explain the mutable and immutable data types with proper explanation & examples.**"
   ]
  },
  {
   "cell_type": "markdown",
   "id": "3644e861",
   "metadata": {},
   "source": [
    "Mutable objects are those that allow you to change their value or data in place without affecting the object's identity. In contrast, immutable objects don't allow this kind of operation. You'll just have the option of creating new objects of the same type with different values.\n",
    "\n",
    "**1.Mutable Data Types in Python:**\n",
    "\n",
    "There are basically 3 mutable data types in Python:\n",
    "\n",
    "1.List\n",
    "\n",
    "2.Dictionary\n",
    "\n",
    "3.Set"
   ]
  },
  {
   "cell_type": "markdown",
   "id": "96918eca",
   "metadata": {},
   "source": [
    "*1.List:*\n",
    "\n",
    "-A list in Python is used to store the sequence of various types of data. A list can be defined as a collection of values or items of different types.\n",
    "\n",
    "-A list in Python is an ordered collection (also known as a sequence) of items. Lists are similar to arrays in other languages, but with additional functionality.\n",
    "\n",
    "-Lists are mutable, which means their elements can be changed (added, modified, or deleted) after they are created.\n",
    "\n",
    "-A list is created by placing items (elements) inside square brackets [], separated by commas."
   ]
  },
  {
   "cell_type": "code",
   "execution_count": 5,
   "id": "89b0706b",
   "metadata": {},
   "outputs": [
    {
     "name": "stdout",
     "output_type": "stream",
     "text": [
      "[1, 2, 'Python', 'Program', 1.2]\n",
      "<class 'list'>\n"
     ]
    }
   ],
   "source": [
    "# a simple list   \n",
    "list1 = [1, 2, \"Python\", \"Program\", 1.2]        \n",
    "  \n",
    "# printing the list  \n",
    "print(list1)  \n",
    "  \n",
    "# printing the type of list  \n",
    "print(type(list1))  "
   ]
  },
  {
   "cell_type": "markdown",
   "id": "1eb90d11",
   "metadata": {},
   "source": [
    "*2.Dictionary:*\n",
    "\n",
    "-A dictionary in Python is an unordered collection of items. Each item stored in a dictionary has a key and value, making it a key-value pair.\n",
    "\n",
    "-Dictionaries are mutable, which means you can change their elements. You can add, modify, or delete key-value pairs from a dictionary.\n",
    "\n",
    "-A dictionary is created by placing items (key-value pairs) inside curly braces {}, separated by commas. Each item is a pair made up of a key and a value, separated by a colon :.\n"
   ]
  },
  {
   "cell_type": "code",
   "execution_count": 6,
   "id": "52186ed4",
   "metadata": {},
   "outputs": [
    {
     "data": {
      "text/plain": [
       "{'Name': 'Rutu', 'Age': 23}"
      ]
     },
     "execution_count": 6,
     "metadata": {},
     "output_type": "execute_result"
    }
   ],
   "source": [
    "Dict = {\"Name\": \"Rutu\", \"Age\": 23}  \n",
    "Dict"
   ]
  },
  {
   "cell_type": "markdown",
   "id": "82af0234",
   "metadata": {},
   "source": [
    "*3.Set:*\n",
    "\n",
    "-A Python set is the collection of the unordered items. Each element in the set must be unique, immutable, and the sets remove the duplicate elements. Sets are mutable which means we can modify it after its creation."
   ]
  },
  {
   "cell_type": "code",
   "execution_count": 7,
   "id": "4a945eda",
   "metadata": {},
   "outputs": [
    {
     "name": "stdout",
     "output_type": "stream",
     "text": [
      "{'Sunday', 'Tuesday', 'Friday', 'Saturday', 'Monday', 'Wednesday', 'Thursday'}\n",
      "<class 'set'>\n"
     ]
    }
   ],
   "source": [
    "Days = {\"Monday\", \"Tuesday\", \"Wednesday\", \"Thursday\", \"Friday\", \"Saturday\", \"Sunday\"}    \n",
    "print(Days)    \n",
    "print(type(Days)) "
   ]
  },
  {
   "cell_type": "markdown",
   "id": "991750bc",
   "metadata": {},
   "source": [
    "**2.Python immutable data types:**\n",
    "\n",
    "1.Numbers (Integer, Float, Complex, Decimal, Rational & Booleans)\n",
    "\n",
    "2.Tuples\n",
    "\n",
    "3.Strings\n",
    "\n",
    "*1.Numbers:*\n",
    "\n",
    "-int:Since int in Python is an immutable data type, we cannot change or update it.\n",
    "\n",
    "As we previously learned, immutable objects shift their memory address whenever they are updated."
   ]
  },
  {
   "cell_type": "code",
   "execution_count": 8,
   "id": "38a4fabb",
   "metadata": {},
   "outputs": [
    {
     "name": "stdout",
     "output_type": "stream",
     "text": [
      "The memory address of int before updating:  2239277433840\n"
     ]
    }
   ],
   "source": [
    "# Python program to show that int is an immutable data type  \n",
    "  \n",
    "int_ = 25  \n",
    "print('The memory address of int before updating: ', id(int_))    "
   ]
  },
  {
   "cell_type": "markdown",
   "id": "6b8d3b1a",
   "metadata": {},
   "source": [
    "*2.float:*\n",
    "\n",
    "Since the float object in Python is an immutable data type, we cannot alter or update it. As we previously learned, immutable objects shift their memory address whenever they are updated."
   ]
  },
  {
   "cell_type": "code",
   "execution_count": 9,
   "id": "53ffba74",
   "metadata": {},
   "outputs": [
    {
     "name": "stdout",
     "output_type": "stream",
     "text": [
      "The memory address of float before updating:  2239356915056\n"
     ]
    }
   ],
   "source": [
    "# Python program to show that float is an immutable data type  \n",
    "  \n",
    "float_ = float(34.5)  \n",
    "print('The memory address of float before updating: ', id(float_))  "
   ]
  },
  {
   "cell_type": "markdown",
   "id": "dd9d4df3",
   "metadata": {},
   "source": [
    "*3.String:*\n",
    "\n",
    "Since strings in Python are immutable data structures, we cannot add or edit any data. We encountered warnings stating that strings are not changeable when modifying any section of the string"
   ]
  },
  {
   "cell_type": "code",
   "execution_count": 10,
   "id": "7be9a681",
   "metadata": {},
   "outputs": [
    {
     "name": "stdout",
     "output_type": "stream",
     "text": [
      "hello\n"
     ]
    }
   ],
   "source": [
    "# Python program to show that a string is an immutable data type  \n",
    "  \n",
    "# Creating a string object  \n",
    "string = 'hello'    \n",
    "print(string) "
   ]
  },
  {
   "cell_type": "markdown",
   "id": "2caa55f1",
   "metadata": {},
   "source": [
    "**Q.9. Write a code to create the given structure using only for loop.**\n",
    "\n",
    "        *\n",
    "       ***\n",
    "      *****\n",
    "     *******\n",
    "    *********\n",
    "   \n",
    "   "
   ]
  },
  {
   "cell_type": "code",
   "execution_count": 11,
   "id": "bbf0cc06",
   "metadata": {},
   "outputs": [
    {
     "name": "stdout",
     "output_type": "stream",
     "text": [
      "enter the number of rows:5\n",
      "    *\n",
      "   ***\n",
      "  *****\n",
      " *******\n",
      "*********\n"
     ]
    }
   ],
   "source": [
    "n = int(input(\"enter the number of rows:\"))\n",
    "for i in range(n):\n",
    "    for j in range(n-i-1):\n",
    "        print(\" \",end=\"\")\n",
    "    for j in range(2*i+1):\n",
    "        print(\"*\",end=\"\")\n",
    "    print()"
   ]
  },
  {
   "cell_type": "markdown",
   "id": "0545dad9",
   "metadata": {},
   "source": [
    "Q.10. Write a code to create the given structure using while loop.\n",
    "\n",
    "           |||||||||\n",
    "            |||||||\n",
    "             |||||\n",
    "              |||\n",
    "               |"
   ]
  },
  {
   "cell_type": "code",
   "execution_count": 17,
   "id": "59c64d34",
   "metadata": {},
   "outputs": [
    {
     "name": "stdout",
     "output_type": "stream",
     "text": [
      "Enter the number of rows6\n",
      "  |||||||||\n",
      "   |||||||\n",
      "    |||||\n",
      "     |||\n",
      "      |\n"
     ]
    }
   ],
   "source": [
    "num_rows = int(input(\"Enter the number of rows\"))\n",
    "k = 0\n",
    "k = 2\n",
    "m = 1\n",
    "for i in range(1, num_rows): \n",
    "    for j in range (0, k):\n",
    "        print(end = \" \") \n",
    "    k = k + 1\n",
    "    while m <= (2 * (num_rows - i) - 1): \n",
    "        print(\"|\", end = \"\") \n",
    "        m = m + 1\n",
    "    m = 1\n",
    "    print()"
   ]
  },
  {
   "cell_type": "code",
   "execution_count": null,
   "id": "2aa52c9b",
   "metadata": {},
   "outputs": [],
   "source": []
  },
  {
   "cell_type": "code",
   "execution_count": null,
   "id": "e89d7677",
   "metadata": {},
   "outputs": [],
   "source": []
  }
 ],
 "metadata": {
  "kernelspec": {
   "display_name": "Python 3 (ipykernel)",
   "language": "python",
   "name": "python3"
  },
  "language_info": {
   "codemirror_mode": {
    "name": "ipython",
    "version": 3
   },
   "file_extension": ".py",
   "mimetype": "text/x-python",
   "name": "python",
   "nbconvert_exporter": "python",
   "pygments_lexer": "ipython3",
   "version": "3.10.9"
  }
 },
 "nbformat": 4,
 "nbformat_minor": 5
}
