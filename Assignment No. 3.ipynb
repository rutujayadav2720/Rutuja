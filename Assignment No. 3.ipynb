{
 "cells": [
  {
   "cell_type": "markdown",
   "id": "23e9c458-e27d-4a09-ad19-b84d9ccd7c35",
   "metadata": {},
   "source": [
    "Q1. Why are functions advantageous to have in your programs?\n",
    "\n",
    "Ans. Advantages of having functions:\n",
    "A Python function will always have a return value.\n",
    "Functions reduce the need for duplicate code. This makes programs shorter, easier to read, and easier to update."
   ]
  },
  {
   "cell_type": "markdown",
   "id": "eab503ed-46bc-4f8e-9b85-d86bccee3246",
   "metadata": {},
   "source": [
    "Q2. When does the code in a function run:when it's specified or when it's called?\n",
    "\n",
    "Ans . Code in the function runs when the function is called\n",
    "The code inside a function is not executed when the function is defined. The code inside a function is executed when the function is invoked. It is common to use the term \"call a function\" instead of \"invoke a function\". It is also common to say \"call upon a function\", \"start a function\", or \"execute a function\"."
   ]
  },
  {
   "cell_type": "markdown",
   "id": "7dcdecfe-761e-4ff3-b65d-201b9f25274f",
   "metadata": {},
   "source": [
    "Q3. What statement creates a function?\n",
    "\n",
    "Ans. The def statement defines (i.e. creates) a function.\n",
    "write its return type (often void ), then its name, then its parameters inside () parentheses, and finally, inside { } curly brackets, write the code that should run when you call that function.\n",
    "Eg .\n",
    "def my_func():\n",
    "pass"
   ]
  },
  {
   "cell_type": "markdown",
   "id": "8bbf3cba-d89a-423a-aa20-14c7110527a8",
   "metadata": {},
   "source": [
    "Q4. What is the difference between a function and a function call?"
   ]
  },
  {
   "cell_type": "code",
   "execution_count": 2,
   "id": "7b88241e-1757-4ccd-b322-21af80628676",
   "metadata": {},
   "outputs": [],
   "source": [
    "#def of func\n",
    "def my_func(): \n",
    "    pass \n",
    "my_func() #calling of function"
   ]
  },
  {
   "cell_type": "markdown",
   "id": "7c1327db-51bf-46c6-a4fb-4affc78ab8db",
   "metadata": {},
   "source": [
    "A function consists of the def statement and the code in its def clause.A function is a piece of code which enhanced the reusability and modularity of your program. It means that piece of code need not be written again.\n",
    "A function call is what moves the program execution into the function, and the function call evaluates to the function's return value.A function call means invoking or calling that function. Unless a function is called there is no use of that function"
   ]
  },
  {
   "cell_type": "markdown",
   "id": "b121853f-52c3-4987-b417-db96867715c8",
   "metadata": {},
   "source": [
    "Q5. How many global scopes are there in a Python program? How many local scopes?\n",
    "\n",
    "Ans .There's only one global Python scope per program execution. This scope remains in existence until the program terminates , and a local scope is created whenever a function is called."
   ]
  },
  {
   "cell_type": "markdown",
   "id": "401c6109-81ae-453a-b045-a1d2ef349f3e",
   "metadata": {},
   "source": [
    "Q6. What happens to variables in a local scope when the function call returns?\n",
    "\n",
    "Ans. When a function returns, the local scope is destroyed."
   ]
  },
  {
   "cell_type": "markdown",
   "id": "c80489f1-a8b8-40d0-93a6-56afadbc55fa",
   "metadata": {},
   "source": [
    "Q7. What is the concept of a return value? Is it possible to have a return value in an expression?\n",
    "\n",
    "Ans. A return value is the value that a function call evaluates to. Like any value, a return value can be used as part of an expression."
   ]
  },
  {
   "cell_type": "markdown",
   "id": "1ff1a458-214b-4f0d-824d-50f587db9deb",
   "metadata": {},
   "source": [
    "Q8. If a function does not have a return statement, what is the return value of a call to that function?\n",
    "\n",
    "Ans. If the funtion does not have a return statement it will not return anything.\n",
    "If no return statement appears in a function definition, control automatically returns to the calling function after the last statement of the called function is executed. In this case, the return value of the called function is undefined."
   ]
  },
  {
   "cell_type": "markdown",
   "id": "992cd0ce-b8dc-4ff4-b440-35d910a9a053",
   "metadata": {},
   "source": [
    "Q9. How do you make a function variable refer to the global variable?\n",
    "\n",
    "Ans. To make function variable as a global variable you can use the global keyword to declare which variables are global.\n",
    "\n",
    "Variables that are created outside of a function (as in all of the examples above) are known as global variables.\n",
    "\n",
    "Global variables can be used by everyone, both inside of functions and outside."
   ]
  },
  {
   "cell_type": "code",
   "execution_count": 4,
   "id": "cd22ad9b-4e5f-44e4-a0df-46a0d0b80e65",
   "metadata": {},
   "outputs": [
    {
     "name": "stdout",
     "output_type": "stream",
     "text": [
      "Python is Language\n"
     ]
    }
   ],
   "source": [
    "x = \"Language\"\n",
    "\n",
    "def myfunc():\n",
    "  print(\"Python is \" + x)\n",
    "\n",
    "myfunc()"
   ]
  },
  {
   "cell_type": "markdown",
   "id": "26fa6fa1-0eb6-4f31-a51c-879f18481767",
   "metadata": {},
   "source": [
    "Q10. What is the data type of None?\n",
    "\n",
    "Ans . The None keyword is used to define a null value, or no value at all. None is not the same as 0, False, or an empty string. None is a data type of its own (NoneType) and only None can be None."
   ]
  },
  {
   "cell_type": "markdown",
   "id": "0edbcbe9-ea96-4822-af11-a7fba05614ba",
   "metadata": {},
   "source": [
    "Q11. What does the sentence import areallyourpetsnamederic do?\n",
    "\n",
    "Ans .That import statement imports a module named areallyourpetsnamederic. (But a module of this name doesnt exists in Python)"
   ]
  },
  {
   "cell_type": "markdown",
   "id": "ab75fb02-2eba-44e3-a285-b6cc5c9814a8",
   "metadata": {},
   "source": [
    "Q12. If you had a bacon() feature in a spam module, what would you call it after importing spam?\n",
    "\n",
    "Ans .import spam\n",
    "\n",
    "spam.bacon()\n",
    "\n",
    "This function can be called with spam. bacon()."
   ]
  },
  {
   "cell_type": "markdown",
   "id": "8bcf3864-f0f8-4dc5-8d0f-a01728e55161",
   "metadata": {},
   "source": [
    "Q13. What can you do to save a programme from crashing if it encounters an error?\n",
    "\n",
    "Ans. We can use try except clause to save a program from crashing."
   ]
  },
  {
   "cell_type": "markdown",
   "id": "a2b0233d-cfb2-472f-a74f-ff3f939d6ed1",
   "metadata": {},
   "source": [
    "Q14. What is the purpose of the try clause? What is the purpose of the except clause?\n",
    "\n",
    "Ans. Try and Except clause is used to handle the errors within our code . The try block is used to check some code for errors i.e the code inside the try block will execute when there is no error in the program. Whereas the code inside the except block will execute whenever the program encounters some error in the try block."
   ]
  },
  {
   "cell_type": "code",
   "execution_count": null,
   "id": "5658fce7-5ff5-42c4-a57a-9255ba2c673a",
   "metadata": {},
   "outputs": [],
   "source": [
    "try:\n",
    "    # Some Code\n",
    "except:\n",
    "    # Executed if error in the\n",
    "    # try block"
   ]
  }
 ],
 "metadata": {
  "kernelspec": {
   "display_name": "Python 3 (ipykernel)",
   "language": "python",
   "name": "python3"
  },
  "language_info": {
   "codemirror_mode": {
    "name": "ipython",
    "version": 3
   },
   "file_extension": ".py",
   "mimetype": "text/x-python",
   "name": "python",
   "nbconvert_exporter": "python",
   "pygments_lexer": "ipython3",
   "version": "3.10.6"
  }
 },
 "nbformat": 4,
 "nbformat_minor": 5
}
