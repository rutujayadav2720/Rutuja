{
 "cells": [
  {
   "cell_type": "markdown",
   "id": "fb63ab26",
   "metadata": {},
   "source": [
    "**1. What is a lambda function in Python, and how does it differ from a regular function?**"
   ]
  },
  {
   "cell_type": "markdown",
   "id": "ad2db58d",
   "metadata": {},
   "source": [
    "-A lambda function is an anonymous function (i.e., defined without a name) that can take any number of arguments but, unlike normal functions, evaluates and returns only one expression.\n",
    "\n",
    "-Normal function, we don't surround the parameters of a lambda function with parentheses. "
   ]
  },
  {
   "cell_type": "markdown",
   "id": "d7de17e1",
   "metadata": {},
   "source": [
    "**2.Can a lambda function in Python have multiple arguments? If yes, how can you define and use\n",
    "them?**"
   ]
  },
  {
   "cell_type": "markdown",
   "id": "131f5e42",
   "metadata": {},
   "source": [
    "-The lambda function can take many arguments but can return only one expression. Here the expression is nothing but the result returned by the lambda function.\n",
    "\n",
    "-Lambda functions are syntactically restricted to return a single expression.\n",
    "\n",
    "-You can use them as an anonymous function inside other functions.\n",
    "\n",
    "-The lambda functions do not need a return statement, they always return a single expression."
   ]
  },
  {
   "cell_type": "code",
   "execution_count": 1,
   "id": "44e60fcc",
   "metadata": {},
   "outputs": [
    {
     "name": "stdout",
     "output_type": "stream",
     "text": [
      "16\n"
     ]
    }
   ],
   "source": [
    "#Syntax\n",
    "#lambda arguments : expression\n",
    "#The expression is executed and the result is returned:\n",
    "\n",
    "#Example Get your own Python Server\n",
    "#Add 10 to argument a, and return the result:\n",
    "\n",
    "x = lambda a : a + 10\n",
    "print(x(6))"
   ]
  },
  {
   "cell_type": "markdown",
   "id": "e7399683",
   "metadata": {},
   "source": [
    "**3.How are lambda functions typically used in Python? Provide an example use case.**"
   ]
  },
  {
   "cell_type": "markdown",
   "id": "09d35c8a",
   "metadata": {},
   "source": [
    "-Lambda Function, also referred to as ‘Anonymous function’ is same as a regular python function but can be defined without a name. While normal functions are defined using the def keyword, anonymous functions are defined using the lambda keyword. However,they are restricted to single line of expression. They can take in mutliple parameters as in regular functions."
   ]
  },
  {
   "cell_type": "code",
   "execution_count": 2,
   "id": "eea48546",
   "metadata": {},
   "outputs": [
    {
     "name": "stdout",
     "output_type": "stream",
     "text": [
      "Using lambda:  25\n"
     ]
    }
   ],
   "source": [
    "# calculate squares using lambda\n",
    "squares = lambda x: x*x\n",
    "print('Using lambda: ', squares(5))"
   ]
  },
  {
   "cell_type": "markdown",
   "id": "17e54407",
   "metadata": {},
   "source": [
    "**4.What are the advantages and limitations of lambda functions compared to regular functions in\n",
    "Python?**"
   ]
  },
  {
   "cell_type": "markdown",
   "id": "160a2424",
   "metadata": {},
   "source": [
    "       Advantages for Lambda Functions:\n",
    "\n",
    "\n",
    "-Lambda functions reduce the number of lines of code when compared to normal python function defined using def keyword. But this is not exactly true because, even functions defined with def can be defined in one single line. But generally, def functions are written in more than 1 line.\n",
    "\n",
    "-They are generally used when a function is needed temporarily for a short period of time, often to be used inside another function such as filter, map and reduce.\n",
    "\n",
    "-Using lambda function, you can define a function and call it immediately at the end of definition. This can’t be done with def functions."
   ]
  },
  {
   "cell_type": "markdown",
   "id": "e4ea9ea0",
   "metadata": {},
   "source": [
    "     limitations on lambda functions: \n",
    "\n",
    "-Lambda functions can have only one expression.\n",
    "\n",
    "-Lambda functions cannot have a docstring.\n",
    "\n",
    "-Many times lambda functions make code difficult to read."
   ]
  },
  {
   "cell_type": "markdown",
   "id": "d46cdea8",
   "metadata": {},
   "source": [
    "**5. Are lambda functions in Python able to access variables defined outside of their own scope? Explain with an example.**"
   ]
  },
  {
   "cell_type": "code",
   "execution_count": 3,
   "id": "964895b7",
   "metadata": {},
   "outputs": [
    {
     "name": "stdout",
     "output_type": "stream",
     "text": [
      "16\n"
     ]
    }
   ],
   "source": [
    "def func(): \n",
    "    x = 4 # ww w  . j  a v a2s  .c  om\n",
    "    action = (lambda n: x ** n)          # x remembered from enclosing def \n",
    "    return action \n",
    "\n",
    "x = func() \n",
    "print(x(2))                              # Prints 16, 4 ** 2"
   ]
  },
  {
   "cell_type": "markdown",
   "id": "25a4c039",
   "metadata": {},
   "source": [
    "**6. Write a lambda function to calculate the square of a given number.**"
   ]
  },
  {
   "cell_type": "code",
   "execution_count": 4,
   "id": "bebae029",
   "metadata": {},
   "outputs": [
    {
     "data": {
      "text/plain": [
       "36"
      ]
     },
     "execution_count": 4,
     "metadata": {},
     "output_type": "execute_result"
    }
   ],
   "source": [
    "square = lambda x: x**2\n",
    "type(square)\n",
    "square(6)"
   ]
  },
  {
   "cell_type": "markdown",
   "id": "8d3f9552",
   "metadata": {},
   "source": [
    "**7. Create a lambda function to find the maximum value in a list of integers.**"
   ]
  },
  {
   "cell_type": "code",
   "execution_count": 5,
   "id": "65243fbf",
   "metadata": {},
   "outputs": [
    {
     "name": "stdout",
     "output_type": "stream",
     "text": [
      "14\n"
     ]
    }
   ],
   "source": [
    "f = lambda a, b: a if a>b else b\n",
    "maximum = f(10, 14)\n",
    "print(maximum)"
   ]
  },
  {
   "cell_type": "markdown",
   "id": "f9e44764",
   "metadata": {},
   "source": [
    "**8. Implement a lambda function to filter out all the even numbers from a list of integers.**"
   ]
  },
  {
   "cell_type": "code",
   "execution_count": 6,
   "id": "a2e6b50e",
   "metadata": {},
   "outputs": [
    {
     "name": "stdout",
     "output_type": "stream",
     "text": [
      "Original list of integers:\n",
      "[1, 2, 3, 4, 5, 6, 7, 8, 9, 10]\n",
      "\n",
      "Even numbers from the said list:\n",
      "[2, 4, 6, 8, 10]\n"
     ]
    }
   ],
   "source": [
    "nums = [1, 2, 3, 4, 5, 6, 7, 8, 9, 10]\n",
    "print(\"Original list of integers:\")\n",
    "print(nums)\n",
    "print(\"\\nEven numbers from the said list:\")\n",
    "even_nums = list(filter(lambda x: x%2 == 0, nums))\n",
    "print(even_nums)"
   ]
  },
  {
   "cell_type": "markdown",
   "id": "fef74f73",
   "metadata": {},
   "source": [
    "**9. Write a lambda function to sort a list of strings in ascending order based on the length of each\n",
    "string.**"
   ]
  },
  {
   "cell_type": "code",
   "execution_count": 7,
   "id": "fbbc3d5d",
   "metadata": {},
   "outputs": [
    {
     "name": "stdout",
     "output_type": "stream",
     "text": [
      "['amy', 'rohan', 'sapna', 'aakash', 'raunak', 'chinmoy', 'muhammad']\n"
     ]
    }
   ],
   "source": [
    "myList = [\"rohan\", \"amy\", \"sapna\", \"muhammad\", \"aakash\", \"raunak\", \"chinmoy\"]\n",
    "\n",
    "sortedList = sorted(myList, key=lambda x: len(x))\n",
    "\n",
    "print(sortedList)\n"
   ]
  },
  {
   "cell_type": "markdown",
   "id": "3b87a713",
   "metadata": {},
   "source": [
    "**10. Create a lambda function that takes two lists as input and returns a new list containing the common elements between the two lists.**"
   ]
  },
  {
   "cell_type": "code",
   "execution_count": 8,
   "id": "a1b67727",
   "metadata": {},
   "outputs": [
    {
     "name": "stdout",
     "output_type": "stream",
     "text": [
      "The common elements in the two lists are: \n",
      "[5]\n",
      "The common elements in the two lists are: \n",
      "[]\n"
     ]
    }
   ],
   "source": [
    "# Python program to find common elements in\n",
    "# both sets using iTERTOOLS\n",
    "\n",
    "import itertools\n",
    "\n",
    "def common_member(a, b):\n",
    "    a_set = set(a)\n",
    "    b_set = set(b)\n",
    "    #Using filterfalse\n",
    "    not_in_a = set(itertools.filterfalse(lambda x: x in a_set, b_set))\n",
    "    not_in_b = set(itertools.filterfalse(lambda x: x in b_set, a_set))\n",
    "\n",
    "    result = set(a_set).intersection(set(b_set) - not_in_a).union(set(b_set).intersection(set(a_set) - not_in_b))\n",
    "    return list(result)\n",
    "# Example usage:\n",
    "\n",
    "a = [1, 2, 3, 4, 5]\n",
    "b = [5, 6, 7, 8, 9]\n",
    "print(\"The common elements in the two lists are: \")\n",
    "print(common_member(a, b))\n",
    "# Example usage:\n",
    "\n",
    "a = [1, 2, 3, 4, 5]\n",
    "b = [6, 7, 8, 9]\n",
    "print(\"The common elements in the two lists are: \")\n",
    "print(common_member(a, b))\n"
   ]
  },
  {
   "cell_type": "markdown",
   "id": "19af1ba5",
   "metadata": {},
   "source": [
    "**11. Write a recursive function to calculate the factorial of a given positive integer.**"
   ]
  },
  {
   "cell_type": "code",
   "execution_count": 9,
   "id": "948f52b8",
   "metadata": {},
   "outputs": [
    {
     "name": "stdout",
     "output_type": "stream",
     "text": [
      "The Factorial of 5 is 120\n"
     ]
    }
   ],
   "source": [
    "# Recursive function to find factorial of a number\n",
    "def factorial(n):\n",
    " \n",
    "    # base case: if `n` is 0 or 1\n",
    "    if n < 1:\n",
    "        return 1\n",
    " \n",
    "    # use the recurrence relation\n",
    "    return n * factorial(n - 1)\n",
    " \n",
    "if __name__ == '__main__':\n",
    " \n",
    "    n = 5\n",
    "    print(f'The Factorial of {n} is', factorial(n))"
   ]
  },
  {
   "cell_type": "markdown",
   "id": "b0b327a5",
   "metadata": {},
   "source": [
    "**12. Implement a recursive function to compute the nth Fibonacci number.**"
   ]
  },
  {
   "cell_type": "code",
   "execution_count": 10,
   "id": "2121e082",
   "metadata": {},
   "outputs": [
    {
     "name": "stdout",
     "output_type": "stream",
     "text": [
      "12th Element of the Fibonacci Series: 144\n"
     ]
    }
   ],
   "source": [
    "# defining the function for Fibonacci Series  \n",
    "def Fibonacci_Series(n):   \n",
    "    # using if-else conditional statement  \n",
    "    if n < 0:  \n",
    "        print(\"Oops! Incorrect input\")  \n",
    "    # First Fibonacci number is 0  \n",
    "    elif n == 0:   \n",
    "        return (0)   \n",
    "    # Second Fibonacci number is 1   \n",
    "    elif n == 1:  \n",
    "        return (1)  \n",
    "    else:  \n",
    "        return (Fibonacci_Series(n - 1) + Fibonacci_Series(n - 2))   \n",
    "# printing the 12th element of the Fibonacci Series  \n",
    "print(\"12th Element of the Fibonacci Series:\", Fibonacci_Series(12))  "
   ]
  },
  {
   "cell_type": "markdown",
   "id": "a4902428",
   "metadata": {},
   "source": [
    "**13. Create a recursive function to find the sum of all the elements in a given list.**"
   ]
  },
  {
   "cell_type": "code",
   "execution_count": 11,
   "id": "5b4f7f46",
   "metadata": {},
   "outputs": [
    {
     "name": "stdout",
     "output_type": "stream",
     "text": [
      "15\n"
     ]
    }
   ],
   "source": [
    "# Python program to find sum of array\n",
    "# elements using recursion.\n",
    "\n",
    "# Return sum of elements in A[0..N-1]\n",
    "# using recursion.\n",
    "def _findSum(arr, N):\n",
    "    if N <= 0:\n",
    "        return 0\n",
    "    else:\n",
    "        return _findSum(arr, N - 1) + arr[N - 1]\n",
    "\n",
    "# driver code\n",
    "arr =[]\n",
    "# input values to list\n",
    "arr = [1, 2, 3, 4, 5]\n",
    "\n",
    "# calculating length of array\n",
    "N = len(arr)\n",
    "\n",
    "ans =_findSum(arr,N)\n",
    "print (ans)"
   ]
  },
  {
   "cell_type": "markdown",
   "id": "9cdd307f",
   "metadata": {},
   "source": [
    "**14. Write a recursive function to determine whether a given string is a palindrome.**"
   ]
  },
  {
   "cell_type": "code",
   "execution_count": 13,
   "id": "42ee01c9",
   "metadata": {},
   "outputs": [
    {
     "name": "stdout",
     "output_type": "stream",
     "text": [
      "Enter the string :5\n",
      "The string is \n",
      "5\n",
      "The string is a palindrome\n"
     ]
    }
   ],
   "source": [
    "def check_palindrome(my_str):\n",
    "    if len(my_str) < 1:\n",
    "        return True\n",
    "    else:\n",
    "        if my_str[0] == my_str[-1]:\n",
    "            return check_palindrome(my_str[1:-1])\n",
    "        else:\n",
    "            return False\n",
    "my_string = str(input(\"Enter the string :\"))\n",
    "print(\"The string is \")\n",
    "print(my_string)\n",
    "if(check_palindrome(my_string)==True):\n",
    "    print(\"The string is a palindrome\")\n",
    "else:\n",
    "    print(\"The string isn't a palindrome\")"
   ]
  },
  {
   "cell_type": "markdown",
   "id": "1a5d963f",
   "metadata": {},
   "source": [
    "**15. Implement a recursive function to find the greatest common divisor (GCD) of two positive integers.**"
   ]
  },
  {
   "cell_type": "code",
   "execution_count": 14,
   "id": "7c21fca4",
   "metadata": {},
   "outputs": [
    {
     "name": "stdout",
     "output_type": "stream",
     "text": [
      "GCD of 36 and 60 is 12\n"
     ]
    }
   ],
   "source": [
    "num1 = 36\n",
    "num2 = 60\n",
    "gcd = 1\n",
    "\n",
    "for i in range(1, min(num1, num2)):\n",
    "    if num1 % i == 0 and num2 % i == 0:\n",
    "        gcd = i\n",
    "print(\"GCD of\", num1, \"and\", num2, \"is\", gcd)"
   ]
  },
  {
   "cell_type": "code",
   "execution_count": null,
   "id": "8f26fdbf",
   "metadata": {},
   "outputs": [],
   "source": []
  }
 ],
 "metadata": {
  "kernelspec": {
   "display_name": "Python 3 (ipykernel)",
   "language": "python",
   "name": "python3"
  },
  "language_info": {
   "codemirror_mode": {
    "name": "ipython",
    "version": 3
   },
   "file_extension": ".py",
   "mimetype": "text/x-python",
   "name": "python",
   "nbconvert_exporter": "python",
   "pygments_lexer": "ipython3",
   "version": "3.10.9"
  }
 },
 "nbformat": 4,
 "nbformat_minor": 5
}
