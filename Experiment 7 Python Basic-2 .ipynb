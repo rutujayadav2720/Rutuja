{
 "cells": [
  {
   "cell_type": "markdown",
   "id": "02f8ca3e",
   "metadata": {},
   "source": [
    "**Q.1. Create two int type variables, apply addition, subtraction, division and multiplications\n",
    "and store the results in variables. Then print the data in the following format by calling the\n",
    "variables:**\n",
    "\n",
    "**First variable is __ & second variable is __.**\n",
    "\n",
    "**Addition: __ + __ = __.**\n",
    "\n",
    "**Subtraction: __ - __ = __.**\n",
    "\n",
    "**Multiplication: __ * __ = __.**\n",
    "\n",
    "**Division: __ / __ = __.**"
   ]
  },
  {
   "cell_type": "code",
   "execution_count": 3,
   "id": "ad307621",
   "metadata": {},
   "outputs": [
    {
     "name": "stdout",
     "output_type": "stream",
     "text": [
      "First variable is 10\n",
      "second variable is 2\n",
      "Enter any of these char for specific operation +,-,*,/: +\n",
      "Addition:\n",
      "10 + 2 = 12\n"
     ]
    }
   ],
   "source": [
    "# Python program to perform Addition Subtraction Multiplication and Division of two numbers\n",
    "\n",
    "num1 = int(input(\"First variable is \"))\n",
    "num2 = int(input(\"second variable is \"))\n",
    "\n",
    "ch = input(\"Enter any of these char for specific operation +,-,*,/: \")\n",
    "\n",
    "result = 0\n",
    "if ch == '+':\n",
    "    print(\"Addition:\")\n",
    "    result = num1 + num2\n",
    "if ch == '-':\n",
    "    print(\"Substraction:\")\n",
    "    result = num1 - num2\n",
    "if ch == '*':\n",
    "    print(\"Multiplication:\")\n",
    "    result = num1 * num2\n",
    "if ch == '/':\n",
    "    print(\"Division:\")\n",
    "    result = num1 / num2\n",
    "\n",
    "print(num1, ch , num2, \"=\", result)"
   ]
  },
  {
   "cell_type": "markdown",
   "id": "dcd4468e",
   "metadata": {},
   "source": [
    "**Q.2. What is the difference between the following operators:**\n",
    "\n",
    "**(i) ‘/’ & ‘//’**\n",
    "\n",
    "**(ii) ‘**’ & ‘^’**"
   ]
  },
  {
   "cell_type": "markdown",
   "id": "4ede728c",
   "metadata": {},
   "source": [
    " (i) ‘/’ & ‘//’\n",
    "\n",
    "Normal Division (/) : Divides the value on the left by the one on the right. Notice that division results in a floating-point value."
   ]
  },
  {
   "cell_type": "code",
   "execution_count": 4,
   "id": "f419359c",
   "metadata": {},
   "outputs": [
    {
     "name": "stdout",
     "output_type": "stream",
     "text": [
      "2.0\n"
     ]
    }
   ],
   "source": [
    "divide=10/5     #Normal Division\n",
    "print(divide)"
   ]
  },
  {
   "cell_type": "markdown",
   "id": "5c9904ba",
   "metadata": {},
   "source": [
    "Floor Division (//): Divides and returns the integer value of the quotient. It neglects the digits after the decimal."
   ]
  },
  {
   "cell_type": "code",
   "execution_count": 5,
   "id": "40a96722",
   "metadata": {},
   "outputs": [
    {
     "name": "stdout",
     "output_type": "stream",
     "text": [
      "2\n"
     ]
    }
   ],
   "source": [
    "divide=10//5    #Floor Division\n",
    "print(divide)"
   ]
  },
  {
   "cell_type": "markdown",
   "id": "6a909782",
   "metadata": {},
   "source": [
    "(ii)‘**’ & ‘^’"
   ]
  },
  {
   "cell_type": "markdown",
   "id": "fe3dbc10",
   "metadata": {},
   "source": [
    "(ii) Double-asterisks(**)\n",
    "\n",
    "-also unpacks an iterable into the arguments in a function but only for keyword arguments.\n",
    "\n",
    "-These operator permits to take a dictionary of key-value pairs and unpack it in keyword arguments in the function call\n",
    "\n",
    "-The ** operator in Python is used to raise the number on the left to the power of the exponent of the right."
   ]
  },
  {
   "cell_type": "code",
   "execution_count": 6,
   "id": "29c4eb6d",
   "metadata": {},
   "outputs": [
    {
     "name": "stdout",
     "output_type": "stream",
     "text": [
      "Power:  49\n"
     ]
    }
   ],
   "source": [
    "a = 7\n",
    "b = 2\n",
    "# a to the power b\n",
    "print ('Power: ', a ** b) "
   ]
  },
  {
   "cell_type": "markdown",
   "id": "7cfea07f",
   "metadata": {},
   "source": [
    "Exclusive OR (‘^’) :\n",
    "\n",
    "-In Python, XOR is a bitwise operator that is also known as Exclusive OR.\n",
    "\n",
    "-In Python, XOR is a bitwise operator that is also known as Exclusive OR.\n",
    "\n",
    "-It is a logical operator which outputs 1, when either of the operands is 1(one is and the other one is 0), but both are not 1, and both are not 0.\n"
   ]
  },
  {
   "cell_type": "code",
   "execution_count": 7,
   "id": "0bba2df5",
   "metadata": {},
   "outputs": [
    {
     "data": {
      "text/plain": [
       "47"
      ]
     },
     "execution_count": 7,
     "metadata": {},
     "output_type": "execute_result"
    }
   ],
   "source": [
    "# Initializing two integers a and b\n",
    "a = 15\n",
    "b = 32\n",
    "\n",
    "# Finding XOR of a and b using ^ operator\n",
    "c = a ^ b\n",
    "c"
   ]
  },
  {
   "cell_type": "markdown",
   "id": "b5789736",
   "metadata": {},
   "source": [
    "**Q.3. List the logical operators.**"
   ]
  },
  {
   "cell_type": "markdown",
   "id": "bdf33ae3",
   "metadata": {},
   "source": [
    " List the logical operators:\n",
    " \n",
    " 1.and\n",
    " \n",
    " 2.or\n",
    " \n",
    " 3.not\n",
    " \n",
    " 1.and : Returns True if both statements are true"
   ]
  },
  {
   "cell_type": "code",
   "execution_count": 8,
   "id": "7fc1dc94",
   "metadata": {},
   "outputs": [
    {
     "name": "stdout",
     "output_type": "stream",
     "text": [
      "True\n"
     ]
    }
   ],
   "source": [
    "x = 5\n",
    "\n",
    "print(x > 3 and x < 10)\n",
    "\n",
    "# returns True because 5 is greater than 3 AND 5 is less than 10"
   ]
  },
  {
   "cell_type": "markdown",
   "id": "0d9134b7",
   "metadata": {},
   "source": [
    "2.or : Returns True if one of the statements is true"
   ]
  },
  {
   "cell_type": "code",
   "execution_count": 9,
   "id": "0287d810",
   "metadata": {},
   "outputs": [
    {
     "name": "stdout",
     "output_type": "stream",
     "text": [
      "True\n"
     ]
    }
   ],
   "source": [
    "x = 5\n",
    "\n",
    "print(x > 3 or x < 4)\n",
    "\n",
    "# returns True because one of the conditions are true (5 is greater than 3, but 5 is not less than 4)"
   ]
  },
  {
   "cell_type": "markdown",
   "id": "5180174a",
   "metadata": {},
   "source": [
    "  3.not : Reverse the result, returns False if the result is true"
   ]
  },
  {
   "cell_type": "code",
   "execution_count": 10,
   "id": "ce0cbdba",
   "metadata": {},
   "outputs": [
    {
     "name": "stdout",
     "output_type": "stream",
     "text": [
      "False\n"
     ]
    }
   ],
   "source": [
    "x = 5\n",
    "\n",
    "print(not(x > 3 and x < 10))\n",
    "\n",
    "# returns False because not is used to reverse the result"
   ]
  },
  {
   "cell_type": "markdown",
   "id": "39270dbb",
   "metadata": {},
   "source": [
    "**Q.4. Explain right shift operator and left shift operator with examples.**"
   ]
  },
  {
   "cell_type": "markdown",
   "id": "32a528c8",
   "metadata": {},
   "source": [
    "1.<< Binary Left Shift : The left operand's value is moved to its left by the number of bits specified in the right argument."
   ]
  },
  {
   "cell_type": "code",
   "execution_count": 12,
   "id": "794ac4cf",
   "metadata": {},
   "outputs": [
    {
     "name": "stdout",
     "output_type": "stream",
     "text": [
      "x << 1 = 20\n",
      "y << 1 = -30\n"
     ]
    }
   ],
   "source": [
    "x = 10    # Initialize the value of x by 52  \n",
    "y = -15  # Initialize the value of y by -15  \n",
    "#Bitwise left shift operator    \n",
    "print(\"x << 1 =\", x << 1)    \n",
    "print(\"y << 1 =\", y << 1) "
   ]
  },
  {
   "cell_type": "markdown",
   "id": "7ef2b35b",
   "metadata": {},
   "source": [
    "2.>> Binary Right Shift : The quantity of bits provided by the right parameter advances the position of the left operan"
   ]
  },
  {
   "cell_type": "code",
   "execution_count": 14,
   "id": "34354930",
   "metadata": {},
   "outputs": [
    {
     "name": "stdout",
     "output_type": "stream",
     "text": [
      "x >> 1 = 12\n",
      "y >> 1 = -13\n"
     ]
    }
   ],
   "source": [
    "x = 100     # Initialize the value of x by 104  \n",
    "y = -104    # Initialize the value of x by -104  \n",
    "#Bitwise right shift operator    \n",
    "print(\"x >> 1 =\", x >> 3)    \n",
    "print(\"y >> 1 =\", y >> 3)    "
   ]
  },
  {
   "cell_type": "markdown",
   "id": "85d0d696",
   "metadata": {},
   "source": [
    "**Q.5. Create a list containing int type data of length 15. Then write a code to check if 10 is\n",
    "present in the list or not.**"
   ]
  },
  {
   "cell_type": "code",
   "execution_count": 15,
   "id": "0b80585e",
   "metadata": {},
   "outputs": [
    {
     "name": "stdout",
     "output_type": "stream",
     "text": [
      "The length of list is:  15\n",
      "Yes, 10 exists in list\n"
     ]
    }
   ],
   "source": [
    "# Python len()\n",
    "li = [1,2,3,4,5,6,7,8,9,10,11,12,13,14,15]\n",
    "n = len(li)\n",
    "print(\"The length of list is: \", n)\n",
    "\n",
    "# checking if it is more than 0\n",
    "if n > 0:\n",
    "    print(\"Yes, 10 exists in list\")\n",
    "else:\n",
    "    print(\"No, 10 does not exists in list\")"
   ]
  },
  {
   "cell_type": "code",
   "execution_count": null,
   "id": "8b72ad81",
   "metadata": {},
   "outputs": [],
   "source": []
  }
 ],
 "metadata": {
  "kernelspec": {
   "display_name": "Python 3 (ipykernel)",
   "language": "python",
   "name": "python3"
  },
  "language_info": {
   "codemirror_mode": {
    "name": "ipython",
    "version": 3
   },
   "file_extension": ".py",
   "mimetype": "text/x-python",
   "name": "python",
   "nbconvert_exporter": "python",
   "pygments_lexer": "ipython3",
   "version": "3.10.9"
  }
 },
 "nbformat": 4,
 "nbformat_minor": 5
}
