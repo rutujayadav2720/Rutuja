{
 "cells": [
  {
   "cell_type": "markdown",
   "id": "071197c3",
   "metadata": {},
   "source": [
    "**1. What is the role of the 'else' block in a try-except statement? Provide an example scenario where it would be useful.**"
   ]
  },
  {
   "cell_type": "markdown",
   "id": "6eba5de7",
   "metadata": {},
   "source": [
    "The else block lets you execute code when there is no error."
   ]
  },
  {
   "cell_type": "code",
   "execution_count": 3,
   "id": "2849e453",
   "metadata": {},
   "outputs": [
    {
     "name": "stdout",
     "output_type": "stream",
     "text": [
      "Hello\n",
      "Nothing went wrong\n"
     ]
    }
   ],
   "source": [
    "try:\n",
    "    print(\"Hello\")\n",
    "except:\n",
    "    print(\"Something went wrong\")\n",
    "else:\n",
    "    print(\"Nothing went wrong\")"
   ]
  },
  {
   "cell_type": "markdown",
   "id": "c4774117",
   "metadata": {},
   "source": [
    "**2. Can a try-except block be nested inside another try-except block? Explain with an example.**"
   ]
  },
  {
   "cell_type": "code",
   "execution_count": 4,
   "id": "a6c438b9",
   "metadata": {},
   "outputs": [
    {
     "name": "stdout",
     "output_type": "stream",
     "text": [
      "outer try block\n",
      "nested try block\n",
      "5.0\n"
     ]
    }
   ],
   "source": [
    "x = 10\n",
    "y = 2\n",
    " \n",
    "try:\n",
    "    print(\"outer try block\")\n",
    "    try:\n",
    "        print(\"nested try block\")\n",
    "        print(x / y)\n",
    "    except TypeError as te:\n",
    "        print(\"nested except block\")\n",
    "        print(te)\n",
    "except ZeroDivisionError as ze:\n",
    "    print(\"outer except block\")\n",
    "    print(ze)"
   ]
  },
  {
   "cell_type": "markdown",
   "id": "31457e00",
   "metadata": {},
   "source": [
    "**3. How can you create a custom exception class in Python? Provide an example that demonstrates its usage.**"
   ]
  },
  {
   "cell_type": "code",
   "execution_count": 5,
   "id": "bb5094fd",
   "metadata": {},
   "outputs": [
    {
     "name": "stdout",
     "output_type": "stream",
     "text": [
      "A New Exception occurred:  6\n"
     ]
    }
   ],
   "source": [
    "# A python program to create user-defined exception\n",
    "# class MyError is derived from super class Exception\n",
    "class MyError(Exception):\n",
    "\n",
    "    # Constructor or Initializer\n",
    "    def __init__(self, value):\n",
    "        self.value = value\n",
    "\n",
    "    # __str__ is to print() the value\n",
    "    def __str__(self):\n",
    "        return(repr(self.value))\n",
    "\n",
    "\n",
    "try:\n",
    "    raise(MyError(3*2))\n",
    "\n",
    "# Value of Exception is stored in error\n",
    "except MyError as error:\n",
    "    print('A New Exception occurred: ', error.value)\n"
   ]
  },
  {
   "cell_type": "markdown",
   "id": "465702fd",
   "metadata": {},
   "source": [
    "**4. What are some common exceptions that are built-in to Python?**"
   ]
  },
  {
   "cell_type": "raw",
   "id": "87a2e50e",
   "metadata": {},
   "source": [
    "Some of the most common types of exceptions are:\n",
    "\n",
    "ZeroDivisionError:  Raised when the second argument of a division or modulo operation is zero.\n",
    "\n",
    "TypeError:          Raised when an operation or function is applied to an object of inappropriate type.\n",
    "\n",
    "ValueError:         Raised when a built-in operation or function receives an argument that has the right type but an                                 inappropriate value.\n",
    "\n",
    "IndexError:         Raised when a sequence subscript is out of range.\n",
    "\n",
    "KeyError:           Raised when a dictionary key is not found.\n",
    "\n",
    "FileNotFoundError : Raised when a file or directory is requested but doesn&rsquo;t exist.\n",
    "\n",
    "IOError:            Raised when an I/O operation (such as a print statement, the built-in open() function or a method of a file                     object) fails for an I/O-related reason.\n",
    "\n",
    "ImportError:        Raised when an import statement fails to find the module definition or when a from ... import fails to find                     a name that is to be imported.\n",
    "\n",
    "MemoryError:        Raised when an operation runs out of memory.\n",
    "\n",
    "OverflowError:      Raised when the result of an arithmetic operation is too large to be expressed by the normal number format.\n",
    "\n",
    "AttributeError:     Raised when an attribute reference or assignment fails.\n",
    "\n",
    "SyntaxError:        Raised when the parser encounters a syntax error.\n",
    "\n",
    "IndentationError:   Raised when there is incorrect indentation.\n",
    "\n",
    "NameError:          Raised when a local or global name is not found.\n"
   ]
  },
  {
   "cell_type": "markdown",
   "id": "4e450b65",
   "metadata": {},
   "source": [
    "**5. What is logging in Python, and why is it important in software development?**"
   ]
  },
  {
   "cell_type": "markdown",
   "id": "62bdbc50",
   "metadata": {},
   "source": [
    "Logging is a way to store information about your script and track events that occur. When writing any complex script in Python, logging is essential for debugging software as you develop it. Without logging, finding the source of a problem in your code may be extremely time consuming."
   ]
  },
  {
   "cell_type": "markdown",
   "id": "9ad00909",
   "metadata": {},
   "source": [
    "**6. Explain the purpose of log levels in Python logging and provide examples of when each log level would be appropriate.**"
   ]
  },
  {
   "cell_type": "markdown",
   "id": "1acf74c9",
   "metadata": {},
   "source": [
    "Log levels relate to the “importance” of the log. For example, an “error” log is a top priority and should be considered more urgent than a “warn” log. A “debug” log is usually only useful when the application is being debugged.\n",
    "\n",
    "A logging level is a way of classifying the entries in your log file in terms of urgency. Classifying helps filter your log files during search and helps control the amount of information in your logs. Sometimes, categorizing may require you to balance storage use. You may want to capture every detail that may be useful in troubleshooting.\n",
    "\n",
    "The logging modules needed are already a part of the Python standard library. So the IT team just needs to import logging and everything is good to go. The default contains six standard logging levels that indicate the seriousness of an event. These are:\n",
    "\n",
    "Notset = 0: This is the initial default setting of a log when it is created. It is not really relevant and most developers will not even take notice of this category. In many circles, it has already become nonessential. The root log is usually created with level WARNING.\n",
    "\n",
    "Debug = 10: This level gives detailed information, useful only when a problem is being diagnosed.\n",
    "\n",
    "Info = 20: This is used to confirm that everything is working as it should.\n",
    "\n",
    "Warning = 30: This level indicates that something unexpected has happened or some problem is about to happen in the near future.\n",
    "\n",
    "Error = 40: As it implies, an error has occurred. The software was unable to perform some function.\n",
    "\n",
    "Critical = 50: A serious error has occurred. The program itself may shut down or not be able to continue running properly."
   ]
  },
  {
   "cell_type": "code",
   "execution_count": 6,
   "id": "13694541",
   "metadata": {},
   "outputs": [
    {
     "name": "stderr",
     "output_type": "stream",
     "text": [
      "07/18/2023 12:11:32PM - demologgerINFO: info message\n",
      "C:\\Users\\aishw\\AppData\\Local\\Temp\\ipykernel_8644\\2721319816.py:13: DeprecationWarning: The 'warn' method is deprecated, use 'warning' instead\n",
      "  logger.warn('warn message')\n",
      "07/18/2023 12:11:32PM - demologgerWARNING: warn message\n",
      "07/18/2023 12:11:32PM - demologgerERROR: error message\n",
      "07/18/2023 12:11:32PM - demologgerCRITICAL: critical message\n"
     ]
    }
   ],
   "source": [
    "import logging\n",
    "class LoggerDemoConsole:\n",
    "    def testLog(self):\n",
    "        logger = logging.getLogger('demologger')\n",
    "        logger.setLevel(logging.INFO)\n",
    "        consoleHandler = logging.StreamHandler()\n",
    "        consoleHandler.setLevel(logging.INFO)\n",
    "        formatter = logging.Formatter('%(asctime)s - %(name)s%(levelname)s: %(message)s', datefmt='%m/%d/%Y %I:%M:%S%p')\n",
    "        consoleHandler.setFormatter(formatter)\n",
    "        logger.addHandler(consoleHandler)\n",
    "        logger.debug('debug message')\n",
    "        logger.info('info message')\n",
    "        logger.warn('warn message')\n",
    "        logger.error('error message')\n",
    "        logger.critical('critical message')\n",
    "demo = LoggerDemoConsole()\n",
    "demo.testLog()"
   ]
  },
  {
   "cell_type": "markdown",
   "id": "ecd08c72",
   "metadata": {},
   "source": [
    "**7. What are log formatters in Python logging, and how can you customise the log message format using formatters?**"
   ]
  },
  {
   "cell_type": "markdown",
   "id": "e01cd9e2",
   "metadata": {},
   "source": [
    "PYTHON LOG FORMATTING\n",
    "The log formatter basically enriches a log message by adding context information to it. It can be useful to know when the log is sent, where (Python file, line number, method, etc.), and additional context such as the thread and process (can be extremely useful when debugging a multithreaded application).\n",
    "\n",
    "For example, when a log “hello world” is sent through a log formatter:\n",
    "\n",
    "\"%(asctime)s — %(name)s — %(levelname)s — %(funcName)s:%(lineno)d — %(message)s\"\n",
    "\n",
    "it will become\n",
    "\n",
    "2018-02-07 19:47:41,864 - a.b.c - WARNING - <module>:1 - hello world"
   ]
  },
  {
   "cell_type": "markdown",
   "id": "65100183",
   "metadata": {},
   "source": [
    "Customized Logging in Python:\n",
    "In python, the logging module has mainly four components: loggers, handlers, filters and formatters. Loggers are the objects of the logging module with which we handle the logging functionality. Handlers are those which specify where the logging should go to i.e console or files etc. Filters are those with which we can tell the logger what logs to record i.e levels of logging. Formatters are those which are used to customize the log messages.\n",
    "\n",
    "Steps for creating a custom logger\n",
    "Step1: Create a logger\n",
    "First we need to create a logger, which is nothing but an object to the logger class. We can create this by using getLogger() method. After creating the logger object we have to set the log level using setLevel() method.\n",
    "\n",
    "logger = logging.getLogger(‘demologger’)\n",
    "logger.setLevel(logging.INFO)\n",
    "\n",
    "We can give any name to the logger as we wish. In the above example, a logger with name ‘demologger’ will be created.\n",
    "\n",
    "Step2: Creating handler\n",
    "The next step is to create a handler object and set the logging level. There are several types of Handlers like StreamHandler, FileHandler etc. If we use StreamHandler then log messages will be printed to the console. If we use FileHandler, then the log messages will be printed into file.\n",
    "\n",
    "For Stream Handler,\n",
    "consoleHandler = logging.StreamHandler()\n",
    "consoleHandler.setLevel(logging.INFO)\n",
    "\n",
    "For File Handler,\n",
    "fileHandler = logging.FileHandler(‘test.log’)\n",
    "fileHandler.setLevel(logging.INFO)\n",
    "\n",
    "Step3: Creating Formatter\n",
    "The next step is to create a formatter object.\n",
    "\n",
    "formatter = logging.Formatter(‘%(asctime)s – %(name)s – %(levelname)s:\n",
    "%(message)s’, datefmt=’%d/%m/%Y %I:%M:%S %p’)\n",
    "\n",
    "Step4: Adding Formatter to Handler\n",
    "Now we have to add the Formatter (object) to Handler (object) using setFormatter() method.\n",
    "\n",
    "\n",
    "consoleHandler.setFormatter(formatter)\n",
    "\n",
    "Step5: Adding Handler object to the Logger\n",
    "Then the handler object should be added to the logger object using addHandler() method.\n",
    "\n",
    "logger.addHandler(fileHandler)\n",
    "logger.addHandler(streamHandler)\n",
    "\n",
    "\n",
    "Step6: Writing the log messages\n",
    "The last step is writing the log messages to the file using the methods and logger object which we created.\n",
    "\n",
    "logger.debug(‘debug message’)\n",
    "logger.info(‘info message’)\n",
    "logger.warn(‘warn message’)\n",
    "logger.error(‘error message’)\n",
    "logger.critical(‘critical message’)"
   ]
  },
  {
   "cell_type": "code",
   "execution_count": 7,
   "id": "7b6eeaba",
   "metadata": {},
   "outputs": [
    {
     "name": "stderr",
     "output_type": "stream",
     "text": [
      "07/18/2023 12:11:43PM - LoggerDemoConsoleINFO: info message\n",
      "C:\\Users\\aishw\\AppData\\Local\\Temp\\ipykernel_8644\\391395808.py:14: DeprecationWarning: The 'warn' method is deprecated, use 'warning' instead\n",
      "  logger.warn('warn message')\n",
      "07/18/2023 12:11:43PM - LoggerDemoConsoleWARNING: warn message\n",
      "07/18/2023 12:11:43PM - LoggerDemoConsoleERROR: error message\n",
      "07/18/2023 12:11:43PM - LoggerDemoConsoleCRITICAL: critical message\n"
     ]
    }
   ],
   "source": [
    "import logging\n",
    "class LoggerDemoConsole:\n",
    "    def testLog(self):\n",
    "       #logger = logging.getLogger('demologger')\n",
    "        logger = logging.getLogger(LoggerDemoConsole.__name__)\n",
    "        logger.setLevel(logging.INFO)\n",
    "        consoleHandler = logging.StreamHandler()\n",
    "        consoleHandler.setLevel(logging.INFO)\n",
    "        formatter = logging.Formatter('%(asctime)s - %(name)s%(levelname)s: %(message)s', datefmt='%m/%d/%Y %I:%M:%S%p')\n",
    "        consoleHandler.setFormatter(formatter)\n",
    "        logger.addHandler(consoleHandler)\n",
    "        logger.debug('debug message')\n",
    "        logger.info('info message')\n",
    "        logger.warn('warn message')\n",
    "        logger.error('error message')\n",
    "        logger.critical('critical message')\n",
    "demo = LoggerDemoConsole()\n",
    "demo.testLog()"
   ]
  },
  {
   "cell_type": "markdown",
   "id": "ac74c95d",
   "metadata": {},
   "source": [
    "**8. How can you set up logging to capture log messages from multiple modules or classes in a Python application?**"
   ]
  },
  {
   "cell_type": "raw",
   "id": "855cef77",
   "metadata": {},
   "source": [
    "\n",
    "Logging from multiple modules\n",
    "If your program consists of multiple modules, here’s an example of how you could organize logging in it:\n",
    "\n",
    "# myapp.py\n",
    "import logging\n",
    "import mylib\n",
    "\n",
    "def main():\n",
    "    logging.basicConfig(filename='myapp.log', level=logging.INFO)\n",
    "    logging.info('Started')\n",
    "    mylib.do_something()\n",
    "    logging.info('Finished')\n",
    "\n",
    "if __name__ == '__main__':\n",
    "    main()\n",
    "    \n",
    "# mylib.py\n",
    "import logging\n",
    "\n",
    "def do_something():\n",
    "    logging.info('Doing something')\n",
    "If you run myapp.py, you should see this in myapp.log:\n",
    "\n",
    "Output:\n",
    "INFO:root:Started\n",
    "INFO:root:Doing something\n",
    "INFO:root:Finished"
   ]
  },
  {
   "cell_type": "markdown",
   "id": "7de09a57",
   "metadata": {},
   "source": [
    "**9. What is the difference between the logging and print statements in Python? When should you use logging over print statements in a real-world application?**"
   ]
  },
  {
   "cell_type": "markdown",
   "id": "ee42be51",
   "metadata": {},
   "source": [
    "*Logging in Python:*\n",
    "\n",
    "   1.Record events and errors that occur during the execution of Python programs.\n",
    "    \n",
    "   2.Mainly used in the production environment.\n",
    "    \n",
    "   3.Some features are: Log levels, filtering, formatting, and more.\n",
    "    \n",
    "   4.It provides different log levels such as Debug, Info, Error, Warning, and Critical.\n",
    "    \n",
    "   5.Example:import logging;\n",
    "              \n",
    "          logging.basicConfig(level=logging.INFO); \n",
    "              \n",
    "          logging.info(“Hello”)\n",
    "              \n",
    "   Output: Can be configured to log to different output destinations (e.g. console, file, network)"
   ]
  },
  {
   "cell_type": "markdown",
   "id": "02f30e67",
   "metadata": {},
   "source": [
    "*Print in Python:*\n",
    "\n",
    "1.Displays the information to the console for the debugging purposes.\n",
    "   \n",
    "2.Mainly for debugging.\n",
    "   \n",
    "3.There are no good features.\n",
    "   \n",
    "4.It does not have any levels, it simply prints whatever is passed to it.\n",
    "   \n",
    "5.Example:print(“Hello”)\n",
    "\n",
    "Output:Prints only on the console"
   ]
  },
  {
   "cell_type": "markdown",
   "id": "a3c12675",
   "metadata": {},
   "source": [
    "**10.Write a Python program that logs a message to a file named \"app.log\" with the following requirements:**\n",
    "\n",
    "● The log message should be \"Hello, World!\"\n",
    "\n",
    "● The log level should be set to \"INFO.\"\n",
    "\n",
    "● The log file should append new log entries without overwriting previous ones."
   ]
  },
  {
   "cell_type": "raw",
   "id": "d5e1e2d2",
   "metadata": {},
   "source": [
    "#Python program that logs a message to a file named \"app.log\"\n",
    "import logging\n",
    "name = 'GFG'\n",
    "logging.error('%s raised an error', name)\n",
    "\n",
    "Output:\n",
    "ERROR:root:GFG raised an error\n",
    "\n",
    "# The log level should be set to \"INFO.\"\n",
    "import logging\n",
    "logging.basicConfig(level=logging.INFO)\n",
    "logging.info('This message will be logged')\n",
    "logging.debug('This message will not be logged')\n",
    "\n",
    "#The log file should append new log entries without overwriting previous ones.\n",
    "#Append: add additional data to an existing table\n",
    "#Overwrite: remove the existing data from the table and replace it with new data\n",
    "\n",
    "Try:\n",
    "\n",
    "Function LogWrite {\n",
    "   Param ([string]$logstring)\n",
    "   $logstring >> $Logfile\n",
    "}\n",
    "\n",
    "Or you can use the following to append to a file:\n",
    "\n",
    "$logstring | Out-File -FilePath $Logfile -Append"
   ]
  },
  {
   "cell_type": "code",
   "execution_count": null,
   "id": "d85fd13b",
   "metadata": {},
   "outputs": [],
   "source": []
  }
 ],
 "metadata": {
  "kernelspec": {
   "display_name": "Python 3 (ipykernel)",
   "language": "python",
   "name": "python3"
  },
  "language_info": {
   "codemirror_mode": {
    "name": "ipython",
    "version": 3
   },
   "file_extension": ".py",
   "mimetype": "text/x-python",
   "name": "python",
   "nbconvert_exporter": "python",
   "pygments_lexer": "ipython3",
   "version": "3.10.9"
  }
 },
 "nbformat": 4,
 "nbformat_minor": 5
}
