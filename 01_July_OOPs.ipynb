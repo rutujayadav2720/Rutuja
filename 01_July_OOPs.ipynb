{
 "cells": [
  {
   "cell_type": "markdown",
   "id": "44c66bf1",
   "metadata": {},
   "source": [
    "**1.What is the primary goal of Object-Oriented Programming (OOP)?**"
   ]
  },
  {
   "cell_type": "markdown",
   "id": "5a81efd9",
   "metadata": {},
   "source": [
    "To hold entire data into a single object such that it would be easy to pass this to other methods and objects."
   ]
  },
  {
   "cell_type": "markdown",
   "id": "5ad17c87",
   "metadata": {},
   "source": [
    "**2.What is an object in Python?**"
   ]
  },
  {
   "cell_type": "markdown",
   "id": "653e79d5",
   "metadata": {},
   "source": [
    "Objects are the instances of a particular class. "
   ]
  },
  {
   "cell_type": "markdown",
   "id": "7ee22fc0",
   "metadata": {},
   "source": [
    "**3.What is a class in Python?**"
   ]
  },
  {
   "cell_type": "markdown",
   "id": "68ef5431",
   "metadata": {},
   "source": [
    " A Class is like an object constructor, or a \"blueprint\" for creating objects."
   ]
  },
  {
   "cell_type": "markdown",
   "id": "9f8f8b3d",
   "metadata": {},
   "source": [
    "**4.What are attributes and methods in a class?**"
   ]
  },
  {
   "cell_type": "markdown",
   "id": "ec6a99d8",
   "metadata": {},
   "source": [
    "The data values which we store inside an object are called attributes, and the functions which are associated with the object are called methods."
   ]
  },
  {
   "cell_type": "markdown",
   "id": "571fbcab",
   "metadata": {},
   "source": [
    "**5.What is the difference between class variables and instance variables in Python?**"
   ]
  },
  {
   "cell_type": "markdown",
   "id": "b2053fce",
   "metadata": {},
   "source": [
    "Class variables are defined within the class but outside of any class methods. Instance variables are defined within class methods, typically the constructor."
   ]
  },
  {
   "cell_type": "markdown",
   "id": "1e18ffb4",
   "metadata": {},
   "source": [
    "**6.What is the purpose of the self parameter in Python class methods?**"
   ]
  },
  {
   "cell_type": "markdown",
   "id": "e44a5d56",
   "metadata": {},
   "source": [
    "self represents the instance of the class. By using the “self” we can access the attributes and methods of the class in python."
   ]
  },
  {
   "cell_type": "markdown",
   "id": "53e02715",
   "metadata": {},
   "source": [
    "**7.For a library management system, you have to design the \"Book\" class with OOP principles in mind. The “Book” class will have following attributes:**\n",
    "\n",
    "a. title: Represents the title of the book.\n",
    "\n",
    "b. author: Represents the author(s) of the book.\n",
    "\n",
    "c. isbn: Represents the ISBN (International Standard Book Number) of the book.\n",
    "\n",
    "d. publication_year: Represents the year of publication of the book.\n",
    "\n",
    "e. available_copies: Represents the number of copies available for checkout.\n",
    "\n",
    "The class will also include the following methods:\n",
    "\n",
    "a. check_out(self): Decrements the available copies by one if there are copies available for checkout.\n",
    "\n",
    "b. return_book(self): Increments the available copies by one when a book is returned.\n",
    "\n",
    "c. display_book_info(self): Displays the information about the book, including its attributes and the number of available copies."
   ]
  },
  {
   "cell_type": "code",
   "execution_count": 56,
   "id": "cc2de6c7",
   "metadata": {},
   "outputs": [],
   "source": [
    "class Book:\n",
    "    def __init__(self, title, author, ISBN, publication_year, available_copies, id, password, status, person):\n",
    "        self.title = title\n",
    "        self.author = author\n",
    "        self.ISBN = ISBN\n",
    "        self.publication_year = publication_year\n",
    "        self.available_copies = available_copies\n",
    "        self.id = id\n",
    "        self.password = password\n",
    "        self.status = status\n",
    "        self.person = person\n",
    "        \n",
    "    def display_book_info(self):\n",
    "        print(f\"The title is : {self.title}\")\n",
    "        print(f\"The author is: {self.author}\")\n",
    "        print(f\"The ISBN is: {self.ISBN}\")\n",
    "        print(f\"The publication_year is: {self.publication_year}\")\n",
    "        print(f\"The available_copies is: {self.available_copies}\")\n",
    "        print(f\"The id is : {self.id}\")\n",
    "        print(f\"The password is : {self.password}\") \n",
    "        print(f\"The status is : {self.status}\")\n",
    "        print(f\"The person is : {self.person}\")\n",
    "        \n",
    "        \n",
    "class Member(Book):\n",
    "    def __init__(self, id, password, person):\n",
    "        super().__init__(id, password, person, status)\n",
    "        self.__date_of_membership = datetime.date.today()\n",
    "        self.__total_books_checkedout = 0\n",
    "\n",
    "    def checkout_book_item(self,number):\n",
    "        if self.get_total_books_checked_out() >= Constants.MAX_BOOKS_ISSUED_TO_A_USER:\n",
    "            print(\"The user has already checked-out maximum number of books\")\n",
    "            return False\n",
    "        \n",
    "    def return_book(self, book_item):\n",
    "        self.check_for_fine(book_item.get_barcode())\n",
    "        book_reservation = BookReservation.fetch_reservation_details(book_item.get_barcode())\n",
    "        if book_reservation != None:\n",
    "            # book item has a pending reservation\n",
    "            book_item.update_book_item_status(BookStatus.RESERVED)\n",
    "            book_reservation.send_book_available_notification()\n",
    "            book_item.update_book_item_status(BookStatus.AVAILABLE)"
   ]
  },
  {
   "cell_type": "code",
   "execution_count": 57,
   "id": "94728fee",
   "metadata": {},
   "outputs": [
    {
     "name": "stdout",
     "output_type": "stream",
     "text": [
      "The title is : abcd\n",
      "The author is: Rutuja\n",
      "The ISBN is: 1234\n",
      "The publication_year is: 2023\n",
      "The available_copies is: 50\n",
      "The id is : 7654\n",
      "The password is : om@1234\n",
      "The status is : Ok\n",
      "The person is : Available\n"
     ]
    }
   ],
   "source": [
    "Books = Book(\"abcd\", \"Rutuja\", 1234, 2023 , 50, 7654, \"om@1234\", \"Ok\", \"Available\")\n",
    "Books.display_book_info()"
   ]
  },
  {
   "cell_type": "markdown",
   "id": "58d841b2",
   "metadata": {},
   "source": [
    "**8.For a ticket booking system, you have to design the \"Ticket\" class with OOP principles in mind. The “Ticket” class should have the following attributes:**\n",
    "\n",
    "a. ticket_id: Represents the unique identifier for the ticket.\n",
    "\n",
    "b. event_name: Represents the name of the event.\n",
    "\n",
    "c. event_date: Represents the date of the event.\n",
    "\n",
    "d. venue: Represents the venue of the event.\n",
    "\n",
    "e. seat_number: Represents the seat number associated with the ticket.\n",
    "\n",
    "f. price: Represents the price of the ticket.\n",
    "\n",
    "g. is_reserved: Represents the reservation status of the ticket.\n",
    "\n",
    "The class also includes the following methods:\n",
    "\n",
    "a. reserve_ticket(self): Marks the ticket as reserved if it is not already reserved.\n",
    "\n",
    "b. cancel_reservation(self): Cancels the reservation of the ticket if it is already reserved.\n",
    "\n",
    "c. display_ticket_info(self): Displays the information about the ticket, including its attributes and reservation status."
   ]
  },
  {
   "cell_type": "code",
   "execution_count": 58,
   "id": "4366e7c9",
   "metadata": {},
   "outputs": [],
   "source": [
    "class Ticket:\n",
    "    def __init__(self,  ticket_id, event_name, event_date, venue, seat_number, price, is_reserved):\n",
    "        self.ticket_id = ticket_id\n",
    "        self.event_name = event_name\n",
    "        self.event_date = event_date\n",
    "        self.venue =  venue\n",
    "        self.seat_number = seat_number\n",
    "        self.price = price\n",
    "        self.is_reserved = is_reserved\n",
    "\n",
    "    def display_ticket_info(self):\n",
    "        print(f\"The ticket_id is: {self.ticket_id}\")\n",
    "        print(f\"The event_name is: {self.event_name}\")\n",
    "        print(f\"The event_date is: {self.event_date}\")\n",
    "        print(f\"The venue is: {self.venue}\")\n",
    "        print(f\"The seat_number is: {self.seat_number}\")\n",
    "        print(f\"The price is: {self.price}\")\n",
    "        print(f\"The reserved seat is: {self.is_reserved}\")\n",
    "        \n",
    "    def reserve_ticket(self, seat_number):\n",
    "        self.is_reserved += seat_number\n",
    "    def cancel_reservation(self):\n",
    "        self.is_reserved += seat_number\n"
   ]
  },
  {
   "cell_type": "code",
   "execution_count": 59,
   "id": "a5826913",
   "metadata": {},
   "outputs": [
    {
     "name": "stdout",
     "output_type": "stream",
     "text": [
      "The ticket_id is: 3456\n",
      "The event_name is: Diwali\n",
      "The event_date is: 2023\n",
      "The venue is: Satara\n",
      "The seat_number is: 12\n",
      "The price is: 50\n",
      "The reserved seat is: 0\n"
     ]
    }
   ],
   "source": [
    "Book = Ticket(\"3456\", \"Diwali\", 2023, \"Satara\", 12, 50, 0)\n",
    "Book.display_ticket_info()"
   ]
  },
  {
   "cell_type": "code",
   "execution_count": 60,
   "id": "00c7b1b6",
   "metadata": {},
   "outputs": [],
   "source": [
    "Book.is_reserved='already reserved'"
   ]
  },
  {
   "cell_type": "code",
   "execution_count": 61,
   "id": "4a330c00",
   "metadata": {},
   "outputs": [
    {
     "name": "stdout",
     "output_type": "stream",
     "text": [
      "already reserved\n"
     ]
    }
   ],
   "source": [
    "print(Book.is_reserved)"
   ]
  },
  {
   "cell_type": "code",
   "execution_count": 62,
   "id": "428ab67c",
   "metadata": {},
   "outputs": [],
   "source": [
    "Book.is_reserved='cancel reservation'"
   ]
  },
  {
   "cell_type": "code",
   "execution_count": 63,
   "id": "376d6227",
   "metadata": {},
   "outputs": [
    {
     "name": "stdout",
     "output_type": "stream",
     "text": [
      "cancel reservation\n"
     ]
    }
   ],
   "source": [
    "print(Book.is_reserved)"
   ]
  },
  {
   "cell_type": "markdown",
   "id": "7d74aa29",
   "metadata": {},
   "source": [
    "**9.You are creating a shopping cart for an e-commerce website. Using OOP to model the \"ShoppingCart\" functionality the class should contain following attributes and methods:**\n",
    "\n",
    "a. items: Represents the list of items in the shopping cart.\n",
    "The class also includes the following methods:\n",
    "\n",
    "a. add_item(self, item): Adds an item to the shopping cart by appending it to the list of items.\n",
    "\n",
    "b. remove_item(self, item): Removes an item from the shopping cart if it exists in the list.\n",
    "\n",
    "c. view_cart(self): Displays the items currently present in the shopping cart.\n",
    "\n",
    "d. clear_cart(self): Clears all items from the shopping cart by reassigning an empty list to the items attribute."
   ]
  },
  {
   "cell_type": "code",
   "execution_count": 64,
   "id": "fde10163",
   "metadata": {},
   "outputs": [],
   "source": [
    "class ShoppingCart:\n",
    "    def __init__(self):\n",
    "        self.items = []\n",
    "\n",
    "    def add_item(self, item_name, qty):\n",
    "        item = (item_name, qty)\n",
    "        self.items.append(item)\n",
    "\n",
    "    def remove_item(self, item_name):\n",
    "        for item in self.items:\n",
    "            if item[0] == item_name:\n",
    "                self.items.remove(item)\n",
    "                break\n",
    "\n",
    "    def calculate_total(self):\n",
    "        total = 0\n",
    "        for item in self.items:\n",
    "            total += item[1]\n",
    "        return total\n",
    "    \n",
    "    def view_cart(self,item):\n",
    "        for item in cart.items:\n",
    "            print(item[0])\n"
   ]
  },
  {
   "cell_type": "code",
   "execution_count": 65,
   "id": "195631ea",
   "metadata": {},
   "outputs": [],
   "source": [
    "cart = ShoppingCart()"
   ]
  },
  {
   "cell_type": "code",
   "execution_count": 66,
   "id": "62b62886",
   "metadata": {},
   "outputs": [],
   "source": [
    "cart.add_item(\"Book\", 100)\n",
    "cart.add_item(\"Bag\", 200)\n",
    "cart.add_item(\"Pen\", 150)"
   ]
  },
  {
   "cell_type": "code",
   "execution_count": 67,
   "id": "0292156b",
   "metadata": {},
   "outputs": [
    {
     "name": "stdout",
     "output_type": "stream",
     "text": [
      "Current Items in Cart:\n",
      "Book - 100\n",
      "Bag - 200\n",
      "Pen - 150\n"
     ]
    }
   ],
   "source": [
    "print(\"Current Items in Cart:\")\n",
    "for item in cart.items:\n",
    "    print(item[0], \"-\", item[1])"
   ]
  },
  {
   "cell_type": "code",
   "execution_count": 68,
   "id": "6d4a28dc",
   "metadata": {},
   "outputs": [
    {
     "name": "stdout",
     "output_type": "stream",
     "text": [
      "Total Quantity: 450\n"
     ]
    }
   ],
   "source": [
    "total_qty = cart.calculate_total()\n",
    "print(\"Total Quantity:\", total_qty)"
   ]
  },
  {
   "cell_type": "code",
   "execution_count": 69,
   "id": "cae67133",
   "metadata": {},
   "outputs": [],
   "source": [
    "cart.remove_item(\"Pen\")"
   ]
  },
  {
   "cell_type": "code",
   "execution_count": 70,
   "id": "4b65d9fa",
   "metadata": {},
   "outputs": [
    {
     "name": "stdout",
     "output_type": "stream",
     "text": [
      "\n",
      "Updated Items in Cart after removing Pen:\n",
      "Book - 100\n",
      "Bag - 200\n"
     ]
    }
   ],
   "source": [
    "print(\"\\nUpdated Items in Cart after removing Pen:\")\n",
    "for item in cart.items:\n",
    "    print(item[0], \"-\", item[1])"
   ]
  },
  {
   "cell_type": "code",
   "execution_count": 71,
   "id": "96258b6e",
   "metadata": {},
   "outputs": [
    {
     "name": "stdout",
     "output_type": "stream",
     "text": [
      "Total Quantity: 300\n"
     ]
    }
   ],
   "source": [
    "total_qty = cart.calculate_total()\n",
    "print(\"Total Quantity:\", total_qty)"
   ]
  },
  {
   "cell_type": "code",
   "execution_count": 72,
   "id": "eb9b2fe8",
   "metadata": {},
   "outputs": [
    {
     "name": "stdout",
     "output_type": "stream",
     "text": [
      "Displays the items currently present in the shopping cart:\n",
      "Book\n",
      "Bag\n"
     ]
    }
   ],
   "source": [
    "print(\"Displays the items currently present in the shopping cart:\")\n",
    "for item in cart.items:\n",
    "        print(item[0])"
   ]
  },
  {
   "cell_type": "code",
   "execution_count": 73,
   "id": "dccaeb55",
   "metadata": {},
   "outputs": [
    {
     "name": "stdout",
     "output_type": "stream",
     "text": [
      "Clears all items from the shopping cart by reassigning an empty list to the items attribute:\n",
      "----\n",
      "----\n"
     ]
    }
   ],
   "source": [
    "print(\"Clears all items from the shopping cart by reassigning an empty list to the items attribute:\")\n",
    "for item in cart.items:\n",
    "        print(\"----\")"
   ]
  },
  {
   "cell_type": "markdown",
   "id": "193cfb20",
   "metadata": {},
   "source": [
    "10.Imagine a school management system. You have to design the \"Student\" class using OOP concepts.The “Student” class has the following attributes:\n",
    "\n",
    "a. name: Represents the name of the student.\n",
    "    \n",
    "b. age: Represents the age of the student.\n",
    "    \n",
    "c. grade: Represents the grade or class of the student.\n",
    "    \n",
    "d. student_id: Represents the unique identifier for the student.\n",
    "    \n",
    "e. attendance: Represents the attendance record of the student.\n",
    "    \n",
    "The class should also include the following methods:\n",
    "    \n",
    "a. update_attendance(self, date, status): Updates the attendance record of the student for a given date with the provided status (e.g., present or absent).\n",
    "\n",
    "b. get_attendance(self): Returns the attendance record of the student.\n",
    "    \n",
    "c. get_average_attendance(self): Calculates and returns the average attendance percentage of the student based on their attendance record."
   ]
  },
  {
   "cell_type": "code",
   "execution_count": 74,
   "id": "2854e9d8",
   "metadata": {},
   "outputs": [],
   "source": [
    "class School_management_system():\n",
    "    def __init__(self, name, age, grade, student_id, attendance):\n",
    "        self.name = name\n",
    "        self.age = age\n",
    "        self.grade = grade\n",
    "        self.student_id = student_id\n",
    "        self.attendance = attendance\n",
    "    \n",
    "    def display_info(self):\n",
    "        print(f\"The name is :{self.name}\")\n",
    "        print(f\"The age is: {self.age}\")\n",
    "        print(f\"The grade is: {self.grade}\")\n",
    "        print(f\"The student_id is: {self.student_id}\")\n",
    "        print(f\"The attendance is: {self.attendance}\")\n",
    "\n",
    "\n",
    "class update_attendance(School_management_system):\n",
    "    def __init__(self,name):\n",
    "        self.name=name\n",
    "    def attendance(self,days):         \n",
    "        self.present=days\n",
    "        print(\"Name : \",self.name)\n",
    "        print(\"Present \",self.present) \n",
    "        \n",
    "        \n",
    "        \n",
    "class get_average_attendance(School_management_system):  \n",
    "    def calculate_total(self):\n",
    "        total = 0\n",
    "        for item in self.items:\n",
    "            total += item[1]\n",
    "        return total\n",
    "        "
   ]
  },
  {
   "cell_type": "code",
   "execution_count": 75,
   "id": "633c3283",
   "metadata": {},
   "outputs": [
    {
     "name": "stdout",
     "output_type": "stream",
     "text": [
      "The name is :Rutuja\n",
      "The age is: 23\n",
      "The grade is: A\n",
      "The student_id is: 12\n",
      "The attendance is: 0\n"
     ]
    }
   ],
   "source": [
    "school = School_management_system(\"Rutuja\", 23, \"A\", 12, 0)\n",
    "school.display_info()"
   ]
  },
  {
   "cell_type": "code",
   "execution_count": 76,
   "id": "6833a71e",
   "metadata": {},
   "outputs": [
    {
     "name": "stdout",
     "output_type": "stream",
     "text": [
      "Name :  Rutuja\n",
      "Present  \n"
     ]
    }
   ],
   "source": [
    "rutu = update_attendance(\"Rutuja\")   \n",
    "rutu.attendance(\"\")"
   ]
  },
  {
   "cell_type": "code",
   "execution_count": null,
   "id": "c6e687fa",
   "metadata": {},
   "outputs": [],
   "source": []
  }
 ],
 "metadata": {
  "kernelspec": {
   "display_name": "Python 3 (ipykernel)",
   "language": "python",
   "name": "python3"
  },
  "language_info": {
   "codemirror_mode": {
    "name": "ipython",
    "version": 3
   },
   "file_extension": ".py",
   "mimetype": "text/x-python",
   "name": "python",
   "nbconvert_exporter": "python",
   "pygments_lexer": "ipython3",
   "version": "3.10.9"
  }
 },
 "nbformat": 4,
 "nbformat_minor": 5
}
