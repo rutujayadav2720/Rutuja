{
 "cells": [
  {
   "cell_type": "markdown",
   "id": "43b666ad-ade7-4133-9792-271ded67747b",
   "metadata": {},
   "source": [
    "**1. What exactly is [ ]?**\n",
    "\n",
    "Ans : - [ ] is a empty list, like a =[ ]"
   ]
  },
  {
   "cell_type": "markdown",
   "id": "5e1930f4-5b2f-4b26-8047-7d488750d540",
   "metadata": {},
   "source": [
    "**2. In a list of values stored in a variable called spam, how would you assign the value hello' as the third value? (Assume [2, 4, 6, 8, 10] are in spam.)**"
   ]
  },
  {
   "cell_type": "code",
   "execution_count": 1,
   "id": "4e336ab7-1f33-4e3c-a011-c655dba82ef6",
   "metadata": {},
   "outputs": [
    {
     "data": {
      "text/plain": [
       "[2, 4, 'hello', 8, 10]"
      ]
     },
     "execution_count": 1,
     "metadata": {},
     "output_type": "execute_result"
    }
   ],
   "source": [
    "# solution by changing the value in index 3\n",
    "spam = [2, 4, 6, 8, 10]\n",
    "spam[2] = 'hello'\n",
    "spam"
   ]
  },
  {
   "cell_type": "markdown",
   "id": "4e33eea1-719b-4f5f-980f-f83884318687",
   "metadata": {},
   "source": [
    "*Lets pretend the spam includes the list ['a', 'b','c','d'] for the next three queries.*"
   ]
  },
  {
   "cell_type": "markdown",
   "id": "c96b8c10-1dd0-40b6-a29b-d9413a2d1738",
   "metadata": {},
   "source": [
    "**3.What is the value of spam[int(int(3 * 2) / 11)]?**"
   ]
  },
  {
   "cell_type": "code",
   "execution_count": 2,
   "id": "fb6cb0cb-d9e8-46e5-9c1c-95f2e1c27bad",
   "metadata": {},
   "outputs": [
    {
     "data": {
      "text/plain": [
       "'d'"
      ]
     },
     "execution_count": 2,
     "metadata": {},
     "output_type": "execute_result"
    }
   ],
   "source": [
    "spam = ['a', 'b','c','d']\n",
    "spam[int(int('3' * 2) / 11)] # spam[int(33/11)] = spam[3]"
   ]
  },
  {
   "cell_type": "markdown",
   "id": "ebd90cdf-f6c6-4d76-87bf-a97b0fbbc5cd",
   "metadata": {},
   "source": [
    "**4.What is the value of spam[-1]?**"
   ]
  },
  {
   "cell_type": "code",
   "execution_count": 3,
   "id": "43cce155-a82a-44d5-9cbd-6a5b04d56e19",
   "metadata": {},
   "outputs": [
    {
     "data": {
      "text/plain": [
       "'d'"
      ]
     },
     "execution_count": 3,
     "metadata": {},
     "output_type": "execute_result"
    }
   ],
   "source": [
    "spam = ['a', 'b','c','d']\n",
    "spam[-1] # negative index # d"
   ]
  },
  {
   "cell_type": "markdown",
   "id": "a7cc8816-1fa2-4f91-9bb5-e237c276ac9d",
   "metadata": {},
   "source": [
    "**5.What is the value of spam[:2]?**"
   ]
  },
  {
   "cell_type": "code",
   "execution_count": 4,
   "id": "39dee4c4-169e-41e4-af67-ad52f94b710e",
   "metadata": {},
   "outputs": [
    {
     "data": {
      "text/plain": [
       "['a', 'b']"
      ]
     },
     "execution_count": 4,
     "metadata": {},
     "output_type": "execute_result"
    }
   ],
   "source": [
    "spam[:2] # c"
   ]
  },
  {
   "cell_type": "markdown",
   "id": "c0b351ad-c73c-41a7-9997-fbd488f02389",
   "metadata": {},
   "source": [
    "*Let's pretend bacon has the list [3.14, 'cat' 11, 'cat' True] for the next three questions.*"
   ]
  },
  {
   "cell_type": "markdown",
   "id": "990d18b7-7ef5-48a9-904d-5f51f16169f6",
   "metadata": {},
   "source": [
    "**6.What is the value of bacon.index('cat')?**"
   ]
  },
  {
   "cell_type": "code",
   "execution_count": 5,
   "id": "03d31122-1125-4632-a2e5-bced59c842e1",
   "metadata": {},
   "outputs": [
    {
     "data": {
      "text/plain": [
       "1"
      ]
     },
     "execution_count": 5,
     "metadata": {},
     "output_type": "execute_result"
    }
   ],
   "source": [
    "bacon = [3.14, 'cat', 11, 'cat', True]\n",
    "bacon.index('cat') # it returns the index of first occurrence of 'cat'"
   ]
  },
  {
   "cell_type": "markdown",
   "id": "9433a788-81a7-45dc-a7f9-5124ec4b387e",
   "metadata": {},
   "source": [
    "**7.How does bacon.append(99) change the look of the list value in bacon?**"
   ]
  },
  {
   "cell_type": "code",
   "execution_count": 6,
   "id": "9b53dc73-32ad-40a0-9758-6cd1b774e09e",
   "metadata": {},
   "outputs": [
    {
     "data": {
      "text/plain": [
       "[3.14, 'cat', 11, 'cat', True, 99]"
      ]
     },
     "execution_count": 6,
     "metadata": {},
     "output_type": "execute_result"
    }
   ],
   "source": [
    "bacon = [3.14, 'cat', 11, 'cat', True]\n",
    "bacon.append(99) # append adds the item at the end of the list\n",
    "bacon"
   ]
  },
  {
   "cell_type": "markdown",
   "id": "81d93b96-bb98-44c7-ab1a-40c31c3e1030",
   "metadata": {},
   "source": [
    "**8.How does bacon.remove('cat') change the look of the list in bacon?**"
   ]
  },
  {
   "cell_type": "code",
   "execution_count": 7,
   "id": "b87f6cc3-5718-4f32-a7fe-091a47c09bca",
   "metadata": {},
   "outputs": [
    {
     "data": {
      "text/plain": [
       "[3.14, 11, 'cat', True]"
      ]
     },
     "execution_count": 7,
     "metadata": {},
     "output_type": "execute_result"
    }
   ],
   "source": [
    "bacon = [3.14, 'cat', 11, 'cat', True]\n",
    "bacon.remove('cat') # remove first occurrence of item\n",
    "bacon"
   ]
  },
  {
   "cell_type": "markdown",
   "id": "1a65343f-bbc3-4fe5-9b0f-750831b49262",
   "metadata": {},
   "source": [
    "**9.What are the list concatenation and list replication operators?**\n",
    "\n",
    "( * ) is list replication operator \n",
    "( + ) is list concatination operator"
   ]
  },
  {
   "cell_type": "code",
   "execution_count": 8,
   "id": "2285fcc1-f7f2-4626-9407-625987af09e5",
   "metadata": {},
   "outputs": [
    {
     "data": {
      "text/plain": [
       "[1, 2, 3, 4]"
      ]
     },
     "execution_count": 8,
     "metadata": {},
     "output_type": "execute_result"
    }
   ],
   "source": [
    "l1 = [1,2]\n",
    "l2 = [3,4]\n",
    "# list concatination\n",
    "l1+l2"
   ]
  },
  {
   "cell_type": "code",
   "execution_count": 9,
   "id": "254d1a18-843c-4a5a-9fc3-f9244ae12a65",
   "metadata": {},
   "outputs": [
    {
     "data": {
      "text/plain": [
       "[2, 4, 2, 4, 2, 4, 2, 4]"
      ]
     },
     "execution_count": 9,
     "metadata": {},
     "output_type": "execute_result"
    }
   ],
   "source": [
    "l1 = [2,4]\n",
    "# list replication\n",
    "l1*4"
   ]
  },
  {
   "cell_type": "markdown",
   "id": "fb722dec-3e1d-46f4-8f25-c46e6cf6dc33",
   "metadata": {},
   "source": [
    "**10.What is difference between the list methods append() and insert()?**"
   ]
  },
  {
   "cell_type": "markdown",
   "id": "6b19ccfb-2ae7-4210-85c4-3a7f94791005",
   "metadata": {},
   "source": [
    "append() Appends object to the end of the list and\n",
    "insert() Insert object before index."
   ]
  },
  {
   "cell_type": "code",
   "execution_count": 10,
   "id": "ee5987a1-e844-4025-8dce-d0bfd9ca1005",
   "metadata": {},
   "outputs": [
    {
     "data": {
      "text/plain": [
       "[3.14, 'cat', 11, 'cat', True, 99]"
      ]
     },
     "execution_count": 10,
     "metadata": {},
     "output_type": "execute_result"
    }
   ],
   "source": [
    "bacon = [3.14, 'cat', 11, 'cat', True]\n",
    "bacon.append(99) # append adds the item at the end of the list\n",
    "bacon"
   ]
  },
  {
   "cell_type": "code",
   "execution_count": 11,
   "id": "b49f96cd-cdfb-4a5c-8c8a-aeff7f476e14",
   "metadata": {},
   "outputs": [
    {
     "data": {
      "text/plain": [
       "[2, 4, 'hello', 6, 8, 10]"
      ]
     },
     "execution_count": 11,
     "metadata": {},
     "output_type": "execute_result"
    }
   ],
   "source": [
    "# solution by inserting value in 3rd index\n",
    "spam = [2, 4, 6, 8, 10]\n",
    "spam.insert(2,'hello')\n",
    "spam"
   ]
  },
  {
   "cell_type": "markdown",
   "id": "58a10b3c-b477-4432-8ac0-25c6767eaa65",
   "metadata": {},
   "source": [
    "**11.What are the two methods for removing items from a list?**"
   ]
  },
  {
   "cell_type": "code",
   "execution_count": 12,
   "id": "ab948b3f-5f06-4d37-a191-a933bb217043",
   "metadata": {},
   "outputs": [
    {
     "data": {
      "text/plain": [
       "[3.14, 11, 'cat', True]"
      ]
     },
     "execution_count": 12,
     "metadata": {},
     "output_type": "execute_result"
    }
   ],
   "source": [
    "#remove(item) - removeds first occurence of a item\n",
    "bacon = [3.14, 'cat', 11, 'cat', True]\n",
    "bacon.remove('cat')\n",
    "bacon"
   ]
  },
  {
   "cell_type": "code",
   "execution_count": 13,
   "id": "da32898d-8b59-460a-b28a-36764f1931ad",
   "metadata": {},
   "outputs": [
    {
     "data": {
      "text/plain": [
       "[3.14, 'cat', 11, 'cat']"
      ]
     },
     "execution_count": 13,
     "metadata": {},
     "output_type": "execute_result"
    }
   ],
   "source": [
    "#pop() - Remove and returns item at index (default last).\n",
    "bacon = [3.14, 'cat', 11, 'cat', True]\n",
    "bacon.pop()\n",
    "bacon"
   ]
  },
  {
   "cell_type": "markdown",
   "id": "522f4e08-4d6e-43db-bdab-efcc7cf4bfa5",
   "metadata": {},
   "source": [
    "**12.Describe how list values and string values are identical.**"
   ]
  },
  {
   "cell_type": "markdown",
   "id": "145834ab-1f48-4ed8-93b5-2f5ad975f761",
   "metadata": {},
   "source": [
    "Ans.1.Both lists and strings can be passed to len()\n",
    "\n",
    "2.Have indexes and slices\n",
    "\n",
    "3.Can be used in for loops\n",
    "\n",
    "4.Can be concatenated or replicated\n",
    "\n",
    "5.Can be used with the in and not in operators"
   ]
  },
  {
   "cell_type": "markdown",
   "id": "ab82ee07-4406-4ddd-866a-d97cf8d923f8",
   "metadata": {},
   "source": [
    "**13.What's the difference between tuples and lists?**"
   ]
  },
  {
   "cell_type": "markdown",
   "id": "f035ccbe-316a-4e64-8c0b-ff9e9173cdf5",
   "metadata": {},
   "source": [
    "Lists : are mutable - they can have values added, removed, or changed. lists use the square brackets, [ and ]\n",
    "\n",
    "Tuples : are immutable; they cannot be changed at all. Tuples are written using parentheses, ( and )"
   ]
  },
  {
   "cell_type": "markdown",
   "id": "2b6bf87a-d081-4829-a376-c73d93ce6bc4",
   "metadata": {},
   "source": [
    "**14.How do you type a tuple value that only contains the integer 42?**"
   ]
  },
  {
   "cell_type": "code",
   "execution_count": 14,
   "id": "c92eb30b-b74a-4ec7-bf48-de1260df6430",
   "metadata": {},
   "outputs": [
    {
     "data": {
      "text/plain": [
       "(42,)"
      ]
     },
     "execution_count": 14,
     "metadata": {},
     "output_type": "execute_result"
    }
   ],
   "source": [
    "tuple = (42,)\n",
    "tuple"
   ]
  },
  {
   "cell_type": "markdown",
   "id": "95edbf68-3e6e-4aac-a414-40a3c09ebc9b",
   "metadata": {},
   "source": [
    "**15.How do you get a list value's tuple form? How do you get a tuple value's list form?**"
   ]
  },
  {
   "cell_type": "code",
   "execution_count": null,
   "id": "35c3d895-0fec-41c4-a243-3f2f3c402aec",
   "metadata": {},
   "outputs": [],
   "source": [
    "l1 = [2,3]\n",
    "l = tuple(l1)\n",
    "l"
   ]
  },
  {
   "cell_type": "code",
   "execution_count": null,
   "id": "173e79fb-f292-4545-9ad3-ee9e522fbd27",
   "metadata": {},
   "outputs": [],
   "source": [
    "(2,3)"
   ]
  },
  {
   "cell_type": "code",
   "execution_count": 28,
   "id": "0385ab59-3d86-4c7c-b4f7-5b24bc32deb2",
   "metadata": {},
   "outputs": [
    {
     "data": {
      "text/plain": [
       "[3, 4]"
      ]
     },
     "execution_count": 28,
     "metadata": {},
     "output_type": "execute_result"
    }
   ],
   "source": [
    "t1 = (3,4)\n",
    "t = list(t1)\n",
    "t"
   ]
  },
  {
   "cell_type": "markdown",
   "id": "ab1b329b-df21-47c3-831e-77d341207539",
   "metadata": {},
   "source": [
    "**16.Variables that \"contain\" list values are not necessarily lists themselves. Instead, what do they contain?**"
   ]
  },
  {
   "cell_type": "markdown",
   "id": "ce0a3d44-ba46-42f8-8a4a-fd46f35775bd",
   "metadata": {},
   "source": [
    "Ans. They contain references to list values"
   ]
  },
  {
   "cell_type": "markdown",
   "id": "060920d5-93a7-425e-9005-45cf3720d71b",
   "metadata": {},
   "source": [
    "**17.How do you distinguish between copy.copy() and copy.deepcopy()?**"
   ]
  },
  {
   "cell_type": "markdown",
   "id": "f71afc1a-3c71-4397-8702-a68ec1aa3615",
   "metadata": {},
   "source": [
    "Ans . The copy.copy() function will do a shallow copy of a list,\n",
    "\n",
    "The copy.deepcopy() function will do a deep copy of a list. only copy.deepcopy() will duplicate any lists inside the list"
   ]
  },
  {
   "cell_type": "code",
   "execution_count": null,
   "id": "49cdd700-760b-4e79-b0c6-d999c43008e3",
   "metadata": {},
   "outputs": [],
   "source": []
  }
 ],
 "metadata": {
  "kernelspec": {
   "display_name": "Python 3 (ipykernel)",
   "language": "python",
   "name": "python3"
  },
  "language_info": {
   "codemirror_mode": {
    "name": "ipython",
    "version": 3
   },
   "file_extension": ".py",
   "mimetype": "text/x-python",
   "name": "python",
   "nbconvert_exporter": "python",
   "pygments_lexer": "ipython3",
   "version": "3.10.6"
  }
 },
 "nbformat": 4,
 "nbformat_minor": 5
}
